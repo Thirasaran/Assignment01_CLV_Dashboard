{
  "nbformat": 4,
  "nbformat_minor": 0,
  "metadata": {
    "colab": {
      "name": "Assignment07 : Voice of Customer Analytic.ipynb",
      "provenance": [],
      "collapsed_sections": []
    },
    "kernelspec": {
      "name": "python3",
      "display_name": "Python 3"
    },
    "language_info": {
      "name": "python"
    }
  },
  "cells": [
    {
      "cell_type": "markdown",
      "metadata": {
        "id": "bgn-77ep8Oim"
      },
      "source": [
        "# **Assignment07 : Voice of Customer Analytics**"
      ]
    },
    {
      "cell_type": "markdown",
      "metadata": {
        "id": "GVdIVxlu8vmj"
      },
      "source": [
        "# **Set up**"
      ]
    },
    {
      "cell_type": "code",
      "metadata": {
        "id": "bF2rn-l5Rp4U",
        "outputId": "eaf03973-6563-4031-dc83-4f1ab83e486f",
        "colab": {
          "base_uri": "https://localhost:8080/"
        }
      },
      "source": [
        "!pip install pythainlp\n",
        "!pip install tensorflow_text\n",
        "!pip install umap-learn"
      ],
      "execution_count": 1,
      "outputs": [
        {
          "output_type": "stream",
          "name": "stdout",
          "text": [
            "Collecting pythainlp\n",
            "  Downloading pythainlp-2.3.2-py3-none-any.whl (11.0 MB)\n",
            "\u001b[K     |████████████████████████████████| 11.0 MB 5.8 MB/s \n",
            "\u001b[?25hCollecting tinydb>=3.0\n",
            "  Downloading tinydb-4.5.2-py3-none-any.whl (23 kB)\n",
            "Requirement already satisfied: requests>=2.22.0 in /usr/local/lib/python3.7/dist-packages (from pythainlp) (2.23.0)\n",
            "Collecting python-crfsuite>=0.9.6\n",
            "  Downloading python_crfsuite-0.9.7-cp37-cp37m-manylinux1_x86_64.whl (743 kB)\n",
            "\u001b[K     |████████████████████████████████| 743 kB 54.3 MB/s \n",
            "\u001b[?25hRequirement already satisfied: idna<3,>=2.5 in /usr/local/lib/python3.7/dist-packages (from requests>=2.22.0->pythainlp) (2.10)\n",
            "Requirement already satisfied: certifi>=2017.4.17 in /usr/local/lib/python3.7/dist-packages (from requests>=2.22.0->pythainlp) (2021.10.8)\n",
            "Requirement already satisfied: urllib3!=1.25.0,!=1.25.1,<1.26,>=1.21.1 in /usr/local/lib/python3.7/dist-packages (from requests>=2.22.0->pythainlp) (1.24.3)\n",
            "Requirement already satisfied: chardet<4,>=3.0.2 in /usr/local/lib/python3.7/dist-packages (from requests>=2.22.0->pythainlp) (3.0.4)\n",
            "Requirement already satisfied: typing-extensions<4.0.0,>=3.10.0 in /usr/local/lib/python3.7/dist-packages (from tinydb>=3.0->pythainlp) (3.10.0.2)\n",
            "Installing collected packages: tinydb, python-crfsuite, pythainlp\n",
            "Successfully installed pythainlp-2.3.2 python-crfsuite-0.9.7 tinydb-4.5.2\n",
            "Collecting tensorflow_text\n",
            "  Downloading tensorflow_text-2.7.3-cp37-cp37m-manylinux2010_x86_64.whl (4.9 MB)\n",
            "\u001b[K     |████████████████████████████████| 4.9 MB 10.3 MB/s \n",
            "\u001b[?25hRequirement already satisfied: tensorflow<2.8,>=2.7.0 in /usr/local/lib/python3.7/dist-packages (from tensorflow_text) (2.7.0)\n",
            "Requirement already satisfied: tensorflow-hub>=0.8.0 in /usr/local/lib/python3.7/dist-packages (from tensorflow_text) (0.12.0)\n",
            "Requirement already satisfied: six>=1.12.0 in /usr/local/lib/python3.7/dist-packages (from tensorflow<2.8,>=2.7.0->tensorflow_text) (1.15.0)\n",
            "Requirement already satisfied: keras-preprocessing>=1.1.1 in /usr/local/lib/python3.7/dist-packages (from tensorflow<2.8,>=2.7.0->tensorflow_text) (1.1.2)\n",
            "Requirement already satisfied: tensorflow-estimator<2.8,~=2.7.0rc0 in /usr/local/lib/python3.7/dist-packages (from tensorflow<2.8,>=2.7.0->tensorflow_text) (2.7.0)\n",
            "Requirement already satisfied: h5py>=2.9.0 in /usr/local/lib/python3.7/dist-packages (from tensorflow<2.8,>=2.7.0->tensorflow_text) (3.1.0)\n",
            "Requirement already satisfied: flatbuffers<3.0,>=1.12 in /usr/local/lib/python3.7/dist-packages (from tensorflow<2.8,>=2.7.0->tensorflow_text) (2.0)\n",
            "Requirement already satisfied: google-pasta>=0.1.1 in /usr/local/lib/python3.7/dist-packages (from tensorflow<2.8,>=2.7.0->tensorflow_text) (0.2.0)\n",
            "Requirement already satisfied: protobuf>=3.9.2 in /usr/local/lib/python3.7/dist-packages (from tensorflow<2.8,>=2.7.0->tensorflow_text) (3.17.3)\n",
            "Requirement already satisfied: opt-einsum>=2.3.2 in /usr/local/lib/python3.7/dist-packages (from tensorflow<2.8,>=2.7.0->tensorflow_text) (3.3.0)\n",
            "Requirement already satisfied: libclang>=9.0.1 in /usr/local/lib/python3.7/dist-packages (from tensorflow<2.8,>=2.7.0->tensorflow_text) (12.0.0)\n",
            "Requirement already satisfied: numpy>=1.14.5 in /usr/local/lib/python3.7/dist-packages (from tensorflow<2.8,>=2.7.0->tensorflow_text) (1.19.5)\n",
            "Requirement already satisfied: gast<0.5.0,>=0.2.1 in /usr/local/lib/python3.7/dist-packages (from tensorflow<2.8,>=2.7.0->tensorflow_text) (0.4.0)\n",
            "Requirement already satisfied: tensorflow-io-gcs-filesystem>=0.21.0 in /usr/local/lib/python3.7/dist-packages (from tensorflow<2.8,>=2.7.0->tensorflow_text) (0.22.0)\n",
            "Requirement already satisfied: wrapt>=1.11.0 in /usr/local/lib/python3.7/dist-packages (from tensorflow<2.8,>=2.7.0->tensorflow_text) (1.13.3)\n",
            "Requirement already satisfied: keras<2.8,>=2.7.0rc0 in /usr/local/lib/python3.7/dist-packages (from tensorflow<2.8,>=2.7.0->tensorflow_text) (2.7.0)\n",
            "Requirement already satisfied: typing-extensions>=3.6.6 in /usr/local/lib/python3.7/dist-packages (from tensorflow<2.8,>=2.7.0->tensorflow_text) (3.10.0.2)\n",
            "Requirement already satisfied: astunparse>=1.6.0 in /usr/local/lib/python3.7/dist-packages (from tensorflow<2.8,>=2.7.0->tensorflow_text) (1.6.3)\n",
            "Requirement already satisfied: grpcio<2.0,>=1.24.3 in /usr/local/lib/python3.7/dist-packages (from tensorflow<2.8,>=2.7.0->tensorflow_text) (1.42.0)\n",
            "Requirement already satisfied: wheel<1.0,>=0.32.0 in /usr/local/lib/python3.7/dist-packages (from tensorflow<2.8,>=2.7.0->tensorflow_text) (0.37.0)\n",
            "Requirement already satisfied: termcolor>=1.1.0 in /usr/local/lib/python3.7/dist-packages (from tensorflow<2.8,>=2.7.0->tensorflow_text) (1.1.0)\n",
            "Requirement already satisfied: tensorboard~=2.6 in /usr/local/lib/python3.7/dist-packages (from tensorflow<2.8,>=2.7.0->tensorflow_text) (2.7.0)\n",
            "Requirement already satisfied: absl-py>=0.4.0 in /usr/local/lib/python3.7/dist-packages (from tensorflow<2.8,>=2.7.0->tensorflow_text) (0.12.0)\n",
            "Requirement already satisfied: cached-property in /usr/local/lib/python3.7/dist-packages (from h5py>=2.9.0->tensorflow<2.8,>=2.7.0->tensorflow_text) (1.5.2)\n",
            "Requirement already satisfied: requests<3,>=2.21.0 in /usr/local/lib/python3.7/dist-packages (from tensorboard~=2.6->tensorflow<2.8,>=2.7.0->tensorflow_text) (2.23.0)\n",
            "Requirement already satisfied: tensorboard-data-server<0.7.0,>=0.6.0 in /usr/local/lib/python3.7/dist-packages (from tensorboard~=2.6->tensorflow<2.8,>=2.7.0->tensorflow_text) (0.6.1)\n",
            "Requirement already satisfied: werkzeug>=0.11.15 in /usr/local/lib/python3.7/dist-packages (from tensorboard~=2.6->tensorflow<2.8,>=2.7.0->tensorflow_text) (1.0.1)\n",
            "Requirement already satisfied: markdown>=2.6.8 in /usr/local/lib/python3.7/dist-packages (from tensorboard~=2.6->tensorflow<2.8,>=2.7.0->tensorflow_text) (3.3.6)\n",
            "Requirement already satisfied: tensorboard-plugin-wit>=1.6.0 in /usr/local/lib/python3.7/dist-packages (from tensorboard~=2.6->tensorflow<2.8,>=2.7.0->tensorflow_text) (1.8.0)\n",
            "Requirement already satisfied: google-auth-oauthlib<0.5,>=0.4.1 in /usr/local/lib/python3.7/dist-packages (from tensorboard~=2.6->tensorflow<2.8,>=2.7.0->tensorflow_text) (0.4.6)\n",
            "Requirement already satisfied: setuptools>=41.0.0 in /usr/local/lib/python3.7/dist-packages (from tensorboard~=2.6->tensorflow<2.8,>=2.7.0->tensorflow_text) (57.4.0)\n",
            "Requirement already satisfied: google-auth<3,>=1.6.3 in /usr/local/lib/python3.7/dist-packages (from tensorboard~=2.6->tensorflow<2.8,>=2.7.0->tensorflow_text) (1.35.0)\n",
            "Requirement already satisfied: pyasn1-modules>=0.2.1 in /usr/local/lib/python3.7/dist-packages (from google-auth<3,>=1.6.3->tensorboard~=2.6->tensorflow<2.8,>=2.7.0->tensorflow_text) (0.2.8)\n",
            "Requirement already satisfied: rsa<5,>=3.1.4 in /usr/local/lib/python3.7/dist-packages (from google-auth<3,>=1.6.3->tensorboard~=2.6->tensorflow<2.8,>=2.7.0->tensorflow_text) (4.8)\n",
            "Requirement already satisfied: cachetools<5.0,>=2.0.0 in /usr/local/lib/python3.7/dist-packages (from google-auth<3,>=1.6.3->tensorboard~=2.6->tensorflow<2.8,>=2.7.0->tensorflow_text) (4.2.4)\n",
            "Requirement already satisfied: requests-oauthlib>=0.7.0 in /usr/local/lib/python3.7/dist-packages (from google-auth-oauthlib<0.5,>=0.4.1->tensorboard~=2.6->tensorflow<2.8,>=2.7.0->tensorflow_text) (1.3.0)\n",
            "Requirement already satisfied: importlib-metadata>=4.4 in /usr/local/lib/python3.7/dist-packages (from markdown>=2.6.8->tensorboard~=2.6->tensorflow<2.8,>=2.7.0->tensorflow_text) (4.8.2)\n",
            "Requirement already satisfied: zipp>=0.5 in /usr/local/lib/python3.7/dist-packages (from importlib-metadata>=4.4->markdown>=2.6.8->tensorboard~=2.6->tensorflow<2.8,>=2.7.0->tensorflow_text) (3.6.0)\n",
            "Requirement already satisfied: pyasn1<0.5.0,>=0.4.6 in /usr/local/lib/python3.7/dist-packages (from pyasn1-modules>=0.2.1->google-auth<3,>=1.6.3->tensorboard~=2.6->tensorflow<2.8,>=2.7.0->tensorflow_text) (0.4.8)\n",
            "Requirement already satisfied: chardet<4,>=3.0.2 in /usr/local/lib/python3.7/dist-packages (from requests<3,>=2.21.0->tensorboard~=2.6->tensorflow<2.8,>=2.7.0->tensorflow_text) (3.0.4)\n",
            "Requirement already satisfied: certifi>=2017.4.17 in /usr/local/lib/python3.7/dist-packages (from requests<3,>=2.21.0->tensorboard~=2.6->tensorflow<2.8,>=2.7.0->tensorflow_text) (2021.10.8)\n",
            "Requirement already satisfied: idna<3,>=2.5 in /usr/local/lib/python3.7/dist-packages (from requests<3,>=2.21.0->tensorboard~=2.6->tensorflow<2.8,>=2.7.0->tensorflow_text) (2.10)\n",
            "Requirement already satisfied: urllib3!=1.25.0,!=1.25.1,<1.26,>=1.21.1 in /usr/local/lib/python3.7/dist-packages (from requests<3,>=2.21.0->tensorboard~=2.6->tensorflow<2.8,>=2.7.0->tensorflow_text) (1.24.3)\n",
            "Requirement already satisfied: oauthlib>=3.0.0 in /usr/local/lib/python3.7/dist-packages (from requests-oauthlib>=0.7.0->google-auth-oauthlib<0.5,>=0.4.1->tensorboard~=2.6->tensorflow<2.8,>=2.7.0->tensorflow_text) (3.1.1)\n",
            "Installing collected packages: tensorflow-text\n",
            "Successfully installed tensorflow-text-2.7.3\n",
            "Collecting umap-learn\n",
            "  Downloading umap-learn-0.5.2.tar.gz (86 kB)\n",
            "\u001b[K     |████████████████████████████████| 86 kB 1.6 MB/s \n",
            "\u001b[?25hRequirement already satisfied: numpy>=1.17 in /usr/local/lib/python3.7/dist-packages (from umap-learn) (1.19.5)\n",
            "Requirement already satisfied: scikit-learn>=0.22 in /usr/local/lib/python3.7/dist-packages (from umap-learn) (1.0.1)\n",
            "Requirement already satisfied: scipy>=1.0 in /usr/local/lib/python3.7/dist-packages (from umap-learn) (1.4.1)\n",
            "Requirement already satisfied: numba>=0.49 in /usr/local/lib/python3.7/dist-packages (from umap-learn) (0.51.2)\n",
            "Collecting pynndescent>=0.5\n",
            "  Downloading pynndescent-0.5.5.tar.gz (1.1 MB)\n",
            "\u001b[K     |████████████████████████████████| 1.1 MB 16.8 MB/s \n",
            "\u001b[?25hRequirement already satisfied: tqdm in /usr/local/lib/python3.7/dist-packages (from umap-learn) (4.62.3)\n",
            "Requirement already satisfied: llvmlite<0.35,>=0.34.0.dev0 in /usr/local/lib/python3.7/dist-packages (from numba>=0.49->umap-learn) (0.34.0)\n",
            "Requirement already satisfied: setuptools in /usr/local/lib/python3.7/dist-packages (from numba>=0.49->umap-learn) (57.4.0)\n",
            "Requirement already satisfied: joblib>=0.11 in /usr/local/lib/python3.7/dist-packages (from pynndescent>=0.5->umap-learn) (1.1.0)\n",
            "Requirement already satisfied: threadpoolctl>=2.0.0 in /usr/local/lib/python3.7/dist-packages (from scikit-learn>=0.22->umap-learn) (3.0.0)\n",
            "Building wheels for collected packages: umap-learn, pynndescent\n",
            "  Building wheel for umap-learn (setup.py) ... \u001b[?25l\u001b[?25hdone\n",
            "  Created wheel for umap-learn: filename=umap_learn-0.5.2-py3-none-any.whl size=82709 sha256=2ff4501137e4d5963e943a988c91d89c1173e301018747bfa87792fcb2dade1f\n",
            "  Stored in directory: /root/.cache/pip/wheels/84/1b/c6/aaf68a748122632967cef4dffef68224eb16798b6793257d82\n",
            "  Building wheel for pynndescent (setup.py) ... \u001b[?25l\u001b[?25hdone\n",
            "  Created wheel for pynndescent: filename=pynndescent-0.5.5-py3-none-any.whl size=52603 sha256=4b87ec0a22f4ffa73401a9b6454ca9066f813898d57cd0c15678b32059af9e0b\n",
            "  Stored in directory: /root/.cache/pip/wheels/af/e9/33/04db1436df0757c42fda8ea6796d7a8586e23c85fac355f476\n",
            "Successfully built umap-learn pynndescent\n",
            "Installing collected packages: pynndescent, umap-learn\n",
            "Successfully installed pynndescent-0.5.5 umap-learn-0.5.2\n"
          ]
        }
      ]
    },
    {
      "cell_type": "code",
      "metadata": {
        "colab": {
          "base_uri": "https://localhost:8080/"
        },
        "id": "uZlNTUJe8-An",
        "outputId": "a902e07d-f76d-4301-f521-26b435491a94"
      },
      "source": [
        "from google.colab import drive\n",
        "drive.mount('/content/drive')"
      ],
      "execution_count": 3,
      "outputs": [
        {
          "output_type": "stream",
          "name": "stdout",
          "text": [
            "Mounted at /content/drive\n"
          ]
        }
      ]
    },
    {
      "cell_type": "markdown",
      "metadata": {
        "id": "5iTZs_I38z3x"
      },
      "source": [
        "#**Install and import dependencies**"
      ]
    },
    {
      "cell_type": "code",
      "metadata": {
        "id": "7GvuznzISB-h"
      },
      "source": [
        "import numpy as np\n",
        "import pandas as pd\n",
        "pd.set_option('display.max_colwidth', 50)\n",
        "import re\n",
        "\n",
        "import tensorflow as tf\n",
        "import tensorflow_hub as hub\n",
        "import tensorflow_text\n",
        "import umap\n",
        "\n",
        "from sklearn.cluster import KMeans\n",
        "import matplotlib.pyplot as plt\n",
        "\n",
        "from sklearn.cluster import AgglomerativeClustering\n",
        "from sklearn.neighbors import kneighbors_graph\n",
        "\n",
        "import pythainlp\n",
        "from pythainlp.corpus.common import thai_words\n",
        "from pythainlp.util import Trie\n",
        "import collections\n"
      ],
      "execution_count": 2,
      "outputs": []
    },
    {
      "cell_type": "code",
      "metadata": {
        "id": "fUq1dSYcS5yM"
      },
      "source": [
        "module_url = 'https://tfhub.dev/google/universal-sentence-encoder-multilingual/3' \n",
        "#'https://tfhub.dev/google/universal-sentence-encoder-multilingual/3' for a large model\n",
        "\n",
        "model = hub.load(module_url)"
      ],
      "execution_count": 5,
      "outputs": []
    },
    {
      "cell_type": "code",
      "metadata": {
        "id": "dZiaG3R4b6kN"
      },
      "source": [
        "df = pd.read_csv('/content/drive/My Drive/BADS7105/Wongnai Reviews - Small.csv')"
      ],
      "execution_count": 6,
      "outputs": []
    },
    {
      "cell_type": "code",
      "metadata": {
        "colab": {
          "base_uri": "https://localhost:8080/",
          "height": 206
        },
        "id": "gonSv6i4cVs1",
        "outputId": "e54a8fb9-ee5f-448f-c626-932fc0c7cf88"
      },
      "source": [
        "df.head()"
      ],
      "execution_count": 7,
      "outputs": [
        {
          "output_type": "execute_result",
          "data": {
            "text/html": [
              "\n",
              "  <div id=\"df-450bbfd7-7fec-4abe-89f5-874c3b4a9e71\">\n",
              "    <div class=\"colab-df-container\">\n",
              "      <div>\n",
              "<style scoped>\n",
              "    .dataframe tbody tr th:only-of-type {\n",
              "        vertical-align: middle;\n",
              "    }\n",
              "\n",
              "    .dataframe tbody tr th {\n",
              "        vertical-align: top;\n",
              "    }\n",
              "\n",
              "    .dataframe thead th {\n",
              "        text-align: right;\n",
              "    }\n",
              "</style>\n",
              "<table border=\"1\" class=\"dataframe\">\n",
              "  <thead>\n",
              "    <tr style=\"text-align: right;\">\n",
              "      <th></th>\n",
              "      <th>Review ID</th>\n",
              "      <th>Review</th>\n",
              "    </tr>\n",
              "  </thead>\n",
              "  <tbody>\n",
              "    <tr>\n",
              "      <th>0</th>\n",
              "      <td>1</td>\n",
              "      <td>เป็นคนที่ชอบทาน Macchiato เป็นประจำ มีวันนึงเด...</td>\n",
              "    </tr>\n",
              "    <tr>\n",
              "      <th>1</th>\n",
              "      <td>2</td>\n",
              "      <td>Art of Coffee Kasetsart เป็นร้านกาแฟรสชาติเยี่...</td>\n",
              "    </tr>\n",
              "    <tr>\n",
              "      <th>2</th>\n",
              "      <td>3</td>\n",
              "      <td>กวงทะเลเผา อาหารทะเลเค้าสดจริงๆเนื้อปูหวานไม่ค...</td>\n",
              "    </tr>\n",
              "    <tr>\n",
              "      <th>3</th>\n",
              "      <td>4</td>\n",
              "      <td>วันนี้มีโอกาสตื่นเช้าครับเลยถึงโอกาสออกมาหาอะไ...</td>\n",
              "    </tr>\n",
              "    <tr>\n",
              "      <th>4</th>\n",
              "      <td>5</td>\n",
              "      <td>ชอบมาทานร้านนี้ถ้าอยากกินอาหารเวียดนามใกล้บ้าน...</td>\n",
              "    </tr>\n",
              "  </tbody>\n",
              "</table>\n",
              "</div>\n",
              "      <button class=\"colab-df-convert\" onclick=\"convertToInteractive('df-450bbfd7-7fec-4abe-89f5-874c3b4a9e71')\"\n",
              "              title=\"Convert this dataframe to an interactive table.\"\n",
              "              style=\"display:none;\">\n",
              "        \n",
              "  <svg xmlns=\"http://www.w3.org/2000/svg\" height=\"24px\"viewBox=\"0 0 24 24\"\n",
              "       width=\"24px\">\n",
              "    <path d=\"M0 0h24v24H0V0z\" fill=\"none\"/>\n",
              "    <path d=\"M18.56 5.44l.94 2.06.94-2.06 2.06-.94-2.06-.94-.94-2.06-.94 2.06-2.06.94zm-11 1L8.5 8.5l.94-2.06 2.06-.94-2.06-.94L8.5 2.5l-.94 2.06-2.06.94zm10 10l.94 2.06.94-2.06 2.06-.94-2.06-.94-.94-2.06-.94 2.06-2.06.94z\"/><path d=\"M17.41 7.96l-1.37-1.37c-.4-.4-.92-.59-1.43-.59-.52 0-1.04.2-1.43.59L10.3 9.45l-7.72 7.72c-.78.78-.78 2.05 0 2.83L4 21.41c.39.39.9.59 1.41.59.51 0 1.02-.2 1.41-.59l7.78-7.78 2.81-2.81c.8-.78.8-2.07 0-2.86zM5.41 20L4 18.59l7.72-7.72 1.47 1.35L5.41 20z\"/>\n",
              "  </svg>\n",
              "      </button>\n",
              "      \n",
              "  <style>\n",
              "    .colab-df-container {\n",
              "      display:flex;\n",
              "      flex-wrap:wrap;\n",
              "      gap: 12px;\n",
              "    }\n",
              "\n",
              "    .colab-df-convert {\n",
              "      background-color: #E8F0FE;\n",
              "      border: none;\n",
              "      border-radius: 50%;\n",
              "      cursor: pointer;\n",
              "      display: none;\n",
              "      fill: #1967D2;\n",
              "      height: 32px;\n",
              "      padding: 0 0 0 0;\n",
              "      width: 32px;\n",
              "    }\n",
              "\n",
              "    .colab-df-convert:hover {\n",
              "      background-color: #E2EBFA;\n",
              "      box-shadow: 0px 1px 2px rgba(60, 64, 67, 0.3), 0px 1px 3px 1px rgba(60, 64, 67, 0.15);\n",
              "      fill: #174EA6;\n",
              "    }\n",
              "\n",
              "    [theme=dark] .colab-df-convert {\n",
              "      background-color: #3B4455;\n",
              "      fill: #D2E3FC;\n",
              "    }\n",
              "\n",
              "    [theme=dark] .colab-df-convert:hover {\n",
              "      background-color: #434B5C;\n",
              "      box-shadow: 0px 1px 3px 1px rgba(0, 0, 0, 0.15);\n",
              "      filter: drop-shadow(0px 1px 2px rgba(0, 0, 0, 0.3));\n",
              "      fill: #FFFFFF;\n",
              "    }\n",
              "  </style>\n",
              "\n",
              "      <script>\n",
              "        const buttonEl =\n",
              "          document.querySelector('#df-450bbfd7-7fec-4abe-89f5-874c3b4a9e71 button.colab-df-convert');\n",
              "        buttonEl.style.display =\n",
              "          google.colab.kernel.accessAllowed ? 'block' : 'none';\n",
              "\n",
              "        async function convertToInteractive(key) {\n",
              "          const element = document.querySelector('#df-450bbfd7-7fec-4abe-89f5-874c3b4a9e71');\n",
              "          const dataTable =\n",
              "            await google.colab.kernel.invokeFunction('convertToInteractive',\n",
              "                                                     [key], {});\n",
              "          if (!dataTable) return;\n",
              "\n",
              "          const docLinkHtml = 'Like what you see? Visit the ' +\n",
              "            '<a target=\"_blank\" href=https://colab.research.google.com/notebooks/data_table.ipynb>data table notebook</a>'\n",
              "            + ' to learn more about interactive tables.';\n",
              "          element.innerHTML = '';\n",
              "          dataTable['output_type'] = 'display_data';\n",
              "          await google.colab.output.renderOutput(dataTable, element);\n",
              "          const docLink = document.createElement('div');\n",
              "          docLink.innerHTML = docLinkHtml;\n",
              "          element.appendChild(docLink);\n",
              "        }\n",
              "      </script>\n",
              "    </div>\n",
              "  </div>\n",
              "  "
            ],
            "text/plain": [
              "   Review ID                                             Review\n",
              "0          1  เป็นคนที่ชอบทาน Macchiato เป็นประจำ มีวันนึงเด...\n",
              "1          2  Art of Coffee Kasetsart เป็นร้านกาแฟรสชาติเยี่...\n",
              "2          3  กวงทะเลเผา อาหารทะเลเค้าสดจริงๆเนื้อปูหวานไม่ค...\n",
              "3          4  วันนี้มีโอกาสตื่นเช้าครับเลยถึงโอกาสออกมาหาอะไ...\n",
              "4          5  ชอบมาทานร้านนี้ถ้าอยากกินอาหารเวียดนามใกล้บ้าน..."
            ]
          },
          "metadata": {},
          "execution_count": 7
        }
      ]
    },
    {
      "cell_type": "markdown",
      "metadata": {
        "id": "Oowl7VYeP3gK"
      },
      "source": [
        "#**Document embedding and dimension reduction**"
      ]
    },
    {
      "cell_type": "code",
      "metadata": {
        "colab": {
          "base_uri": "https://localhost:8080/"
        },
        "id": "e29WZmM4cCOS",
        "outputId": "cce00e68-e44f-40b4-8ee0-677216a6264b"
      },
      "source": [
        "#embed sentences using Universal Sentence Encoder (USE)\n",
        "\n",
        "embed_comments_array = model(df['Review'].values).numpy()\n",
        "embed_comments_array"
      ],
      "execution_count": 8,
      "outputs": [
        {
          "output_type": "execute_result",
          "data": {
            "text/plain": [
              "array([[ 0.08993827,  0.01941084,  0.03787038, ..., -0.03488849,\n",
              "         0.06299512,  0.04635989],\n",
              "       [ 0.00634244,  0.00814594,  0.03071941, ..., -0.01478723,\n",
              "        -0.03080936, -0.03316405],\n",
              "       [ 0.0633687 , -0.02027139, -0.05077003, ..., -0.06530775,\n",
              "        -0.00952999, -0.03439987],\n",
              "       ...,\n",
              "       [ 0.08775924,  0.03609736,  0.01263062, ..., -0.03102781,\n",
              "        -0.03361677,  0.01928871],\n",
              "       [ 0.05691195,  0.05381691, -0.0399575 , ..., -0.06598807,\n",
              "        -0.05390478, -0.01037725],\n",
              "       [ 0.0777048 ,  0.05080631,  0.02680681, ..., -0.0061413 ,\n",
              "        -0.01313567,  0.02236264]], dtype=float32)"
            ]
          },
          "metadata": {},
          "execution_count": 8
        }
      ]
    },
    {
      "cell_type": "markdown",
      "metadata": {
        "id": "s5qq2RQlQJbV"
      },
      "source": [
        "#**Document clustering using KMeans**"
      ]
    },
    {
      "cell_type": "code",
      "metadata": {
        "colab": {
          "base_uri": "https://localhost:8080/",
          "height": 312
        },
        "id": "2IkMb1UIF3k5",
        "outputId": "673e7b9a-e319-4c57-9940-f7f84d744edd"
      },
      "source": [
        "#run kmeans with various number of k. evaluate no. of k based on the elbow plot\n",
        "\n",
        "wcss=[]\n",
        "max_k = 10\n",
        "for i in range(1, max_k):\n",
        "  kmeans = KMeans(i)\n",
        "  kmeans.fit(embed_comments_array)\n",
        "  wcss_iter = kmeans.inertia_\n",
        "  wcss.append(wcss_iter)\n",
        "\n",
        "number_clusters = range(1, max_k)\n",
        "plt.plot(number_clusters,wcss)\n",
        "plt.title('The Elbow title')\n",
        "plt.xlabel('Number of clusters')\n",
        "plt.ylabel('WCSS')"
      ],
      "execution_count": 9,
      "outputs": [
        {
          "output_type": "execute_result",
          "data": {
            "text/plain": [
              "Text(0, 0.5, 'WCSS')"
            ]
          },
          "metadata": {},
          "execution_count": 9
        },
        {
          "output_type": "display_data",
          "data": {
            "image/png": "[encoded data removed]",
            "text/plain": [
              "<Figure size 432x288 with 1 Axes>"
            ]
          },
          "metadata": {
            "needs_background": "light"
          }
        }
      ]
    },
    {
      "cell_type": "markdown",
      "metadata": {
        "id": "gjPS4_4v-CNM"
      },
      "source": [
        "Choose K = 4, divided in to 4 clusters"
      ]
    },
    {
      "cell_type": "code",
      "metadata": {
        "id": "1o0czkMVdSJ5"
      },
      "source": [
        "#run kmeans with no. of clusters you see fit the most\n",
        "\n",
        "k = 4\n",
        "\n",
        "kmeans = KMeans(n_clusters = k)\n",
        "kmeans.fit(embed_comments_array)\n",
        "\n",
        "df['KMeans ID'] = kmeans.labels_"
      ],
      "execution_count": 10,
      "outputs": []
    },
    {
      "cell_type": "code",
      "metadata": {
        "id": "bf3R2QBr3oOq"
      },
      "source": [
        "#merge all reviews of each cluster into one big sentence \n",
        "\n",
        "df_kmeans = pd.DataFrame(columns=[\"KMeans ID\", \"texts\"])\n",
        "\n",
        "\n",
        "for i in range(0, k):\n",
        "  row = []\n",
        "  row.append(i)\n",
        "  row.append(df['Review'][df['KMeans ID'] == i].to_string())\n",
        "  df_kmeans.loc[len(df_kmeans)] = row"
      ],
      "execution_count": 11,
      "outputs": []
    },
    {
      "cell_type": "code",
      "metadata": {
        "colab": {
          "base_uri": "https://localhost:8080/",
          "height": 174
        },
        "id": "UFo_nqQEL08U",
        "outputId": "5b11373b-f434-4bc2-9bd2-503f496edd35"
      },
      "source": [
        "df_kmeans"
      ],
      "execution_count": 12,
      "outputs": [
        {
          "output_type": "execute_result",
          "data": {
            "text/html": [
              "\n",
              "  <div id=\"df-ef6e103e-5a9c-4812-acf4-a12e95a97a2c\">\n",
              "    <div class=\"colab-df-container\">\n",
              "      <div>\n",
              "<style scoped>\n",
              "    .dataframe tbody tr th:only-of-type {\n",
              "        vertical-align: middle;\n",
              "    }\n",
              "\n",
              "    .dataframe tbody tr th {\n",
              "        vertical-align: top;\n",
              "    }\n",
              "\n",
              "    .dataframe thead th {\n",
              "        text-align: right;\n",
              "    }\n",
              "</style>\n",
              "<table border=\"1\" class=\"dataframe\">\n",
              "  <thead>\n",
              "    <tr style=\"text-align: right;\">\n",
              "      <th></th>\n",
              "      <th>KMeans ID</th>\n",
              "      <th>texts</th>\n",
              "    </tr>\n",
              "  </thead>\n",
              "  <tbody>\n",
              "    <tr>\n",
              "      <th>0</th>\n",
              "      <td>0</td>\n",
              "      <td>2      กวงทะเลเผา อาหารทะเลเค้าสดจริงๆเนื้อปูห...</td>\n",
              "    </tr>\n",
              "    <tr>\n",
              "      <th>1</th>\n",
              "      <td>1</td>\n",
              "      <td>3      วันนี้มีโอกาสตื่นเช้าครับเลยถึงโอกาสออก...</td>\n",
              "    </tr>\n",
              "    <tr>\n",
              "      <th>2</th>\n",
              "      <td>2</td>\n",
              "      <td>13     เคยเป็นไหมกันไหมคะ หลังอาหารมื้อใหญ่ ต่...</td>\n",
              "    </tr>\n",
              "    <tr>\n",
              "      <th>3</th>\n",
              "      <td>3</td>\n",
              "      <td>0      เป็นคนที่ชอบทาน Macchiato เป็นประจำ มีว...</td>\n",
              "    </tr>\n",
              "  </tbody>\n",
              "</table>\n",
              "</div>\n",
              "      <button class=\"colab-df-convert\" onclick=\"convertToInteractive('df-ef6e103e-5a9c-4812-acf4-a12e95a97a2c')\"\n",
              "              title=\"Convert this dataframe to an interactive table.\"\n",
              "              style=\"display:none;\">\n",
              "        \n",
              "  <svg xmlns=\"http://www.w3.org/2000/svg\" height=\"24px\"viewBox=\"0 0 24 24\"\n",
              "       width=\"24px\">\n",
              "    <path d=\"M0 0h24v24H0V0z\" fill=\"none\"/>\n",
              "    <path d=\"M18.56 5.44l.94 2.06.94-2.06 2.06-.94-2.06-.94-.94-2.06-.94 2.06-2.06.94zm-11 1L8.5 8.5l.94-2.06 2.06-.94-2.06-.94L8.5 2.5l-.94 2.06-2.06.94zm10 10l.94 2.06.94-2.06 2.06-.94-2.06-.94-.94-2.06-.94 2.06-2.06.94z\"/><path d=\"M17.41 7.96l-1.37-1.37c-.4-.4-.92-.59-1.43-.59-.52 0-1.04.2-1.43.59L10.3 9.45l-7.72 7.72c-.78.78-.78 2.05 0 2.83L4 21.41c.39.39.9.59 1.41.59.51 0 1.02-.2 1.41-.59l7.78-7.78 2.81-2.81c.8-.78.8-2.07 0-2.86zM5.41 20L4 18.59l7.72-7.72 1.47 1.35L5.41 20z\"/>\n",
              "  </svg>\n",
              "      </button>\n",
              "      \n",
              "  <style>\n",
              "    .colab-df-container {\n",
              "      display:flex;\n",
              "      flex-wrap:wrap;\n",
              "      gap: 12px;\n",
              "    }\n",
              "\n",
              "    .colab-df-convert {\n",
              "      background-color: #E8F0FE;\n",
              "      border: none;\n",
              "      border-radius: 50%;\n",
              "      cursor: pointer;\n",
              "      display: none;\n",
              "      fill: #1967D2;\n",
              "      height: 32px;\n",
              "      padding: 0 0 0 0;\n",
              "      width: 32px;\n",
              "    }\n",
              "\n",
              "    .colab-df-convert:hover {\n",
              "      background-color: #E2EBFA;\n",
              "      box-shadow: 0px 1px 2px rgba(60, 64, 67, 0.3), 0px 1px 3px 1px rgba(60, 64, 67, 0.15);\n",
              "      fill: #174EA6;\n",
              "    }\n",
              "\n",
              "    [theme=dark] .colab-df-convert {\n",
              "      background-color: #3B4455;\n",
              "      fill: #D2E3FC;\n",
              "    }\n",
              "\n",
              "    [theme=dark] .colab-df-convert:hover {\n",
              "      background-color: #434B5C;\n",
              "      box-shadow: 0px 1px 3px 1px rgba(0, 0, 0, 0.15);\n",
              "      filter: drop-shadow(0px 1px 2px rgba(0, 0, 0, 0.3));\n",
              "      fill: #FFFFFF;\n",
              "    }\n",
              "  </style>\n",
              "\n",
              "      <script>\n",
              "        const buttonEl =\n",
              "          document.querySelector('#df-ef6e103e-5a9c-4812-acf4-a12e95a97a2c button.colab-df-convert');\n",
              "        buttonEl.style.display =\n",
              "          google.colab.kernel.accessAllowed ? 'block' : 'none';\n",
              "\n",
              "        async function convertToInteractive(key) {\n",
              "          const element = document.querySelector('#df-ef6e103e-5a9c-4812-acf4-a12e95a97a2c');\n",
              "          const dataTable =\n",
              "            await google.colab.kernel.invokeFunction('convertToInteractive',\n",
              "                                                     [key], {});\n",
              "          if (!dataTable) return;\n",
              "\n",
              "          const docLinkHtml = 'Like what you see? Visit the ' +\n",
              "            '<a target=\"_blank\" href=https://colab.research.google.com/notebooks/data_table.ipynb>data table notebook</a>'\n",
              "            + ' to learn more about interactive tables.';\n",
              "          element.innerHTML = '';\n",
              "          dataTable['output_type'] = 'display_data';\n",
              "          await google.colab.output.renderOutput(dataTable, element);\n",
              "          const docLink = document.createElement('div');\n",
              "          docLink.innerHTML = docLinkHtml;\n",
              "          element.appendChild(docLink);\n",
              "        }\n",
              "      </script>\n",
              "    </div>\n",
              "  </div>\n",
              "  "
            ],
            "text/plain": [
              "  KMeans ID                                              texts\n",
              "0         0  2      กวงทะเลเผา อาหารทะเลเค้าสดจริงๆเนื้อปูห...\n",
              "1         1  3      วันนี้มีโอกาสตื่นเช้าครับเลยถึงโอกาสออก...\n",
              "2         2  13     เคยเป็นไหมกันไหมคะ หลังอาหารมื้อใหญ่ ต่...\n",
              "3         3  0      เป็นคนที่ชอบทาน Macchiato เป็นประจำ มีว..."
            ]
          },
          "metadata": {},
          "execution_count": 12
        }
      ]
    },
    {
      "cell_type": "markdown",
      "metadata": {
        "id": "CYmFB5vu-LwJ"
      },
      "source": [
        "Remove special characters"
      ]
    },
    {
      "cell_type": "code",
      "metadata": {
        "id": "JydvwIz5NcaI"
      },
      "source": [
        "#create regex compiler for removal of a character you don't want\n",
        "\n",
        "special_characters = \"/[!@#$%^&*']/g\"\n",
        "\n",
        "specialchar_pattern = re.compile(special_characters)"
      ],
      "execution_count": 13,
      "outputs": []
    },
    {
      "cell_type": "markdown",
      "metadata": {
        "id": "AK3Fg9nb-QJL"
      },
      "source": [
        "Remove emojicon"
      ]
    },
    {
      "cell_type": "code",
      "metadata": {
        "id": "R8ymEA_2EhGi"
      },
      "source": [
        "#create regex compiler for removal of any emoji\n",
        "\n",
        "emoji_pattern = re.compile(\"[\"\n",
        "        u\"\\U0001F600-\\U0001F64F\"  # emoticons\n",
        "        u\"\\U0001F300-\\U0001F5FF\"  # symbols & pictographs\n",
        "        u\"\\U0001F680-\\U0001F6FF\"  # transport & map symbols\n",
        "        u\"\\U0001F1E0-\\U0001F1FF\"  # flags (iOS)\n",
        "                           \"]+\", flags=re.UNICODE)"
      ],
      "execution_count": 14,
      "outputs": []
    },
    {
      "cell_type": "markdown",
      "metadata": {
        "id": "12dVBNZZ-UbV"
      },
      "source": [
        "Remove any numbers"
      ]
    },
    {
      "cell_type": "code",
      "metadata": {
        "id": "9Q93YKJZK5ak"
      },
      "source": [
        "#create regex compiler for removal of digit\n",
        "\n",
        "number_pattern = re.compile(\"[0-9]\")"
      ],
      "execution_count": 15,
      "outputs": []
    },
    {
      "cell_type": "markdown",
      "metadata": {
        "id": "RcA0PUL2-X2o"
      },
      "source": [
        "Remove white space"
      ]
    },
    {
      "cell_type": "code",
      "metadata": {
        "id": "sHZ0HKlXNeSi"
      },
      "source": [
        "#create regex compiler for removal of white space\n",
        "\n",
        "space_pattern = re.compile(\"\\s+\")"
      ],
      "execution_count": 16,
      "outputs": []
    },
    {
      "cell_type": "markdown",
      "metadata": {
        "id": "kmfC5l_y-bzh"
      },
      "source": [
        "Remove dot"
      ]
    },
    {
      "cell_type": "code",
      "metadata": {
        "id": "-orHzqLkNupd"
      },
      "source": [
        "#create regex compiler for removal of .\n",
        "\n",
        "dot_pattern = re.compile(r\"\\.+\")"
      ],
      "execution_count": 17,
      "outputs": []
    },
    {
      "cell_type": "markdown",
      "metadata": {
        "id": "GJsxmrl8-e2b"
      },
      "source": [
        "Remove back slash"
      ]
    },
    {
      "cell_type": "code",
      "metadata": {
        "id": "v7bW9th9N7oG"
      },
      "source": [
        "#create regex compiler for removal of \\\n",
        "\n",
        "backslash_pattern = re.compile(r\"\\\\+\")"
      ],
      "execution_count": 18,
      "outputs": []
    },
    {
      "cell_type": "markdown",
      "metadata": {
        "id": "tWBg2xxR-lvm"
      },
      "source": [
        "#**Word Tokenization**"
      ]
    },
    {
      "cell_type": "code",
      "metadata": {
        "id": "ZGVvQhZz4tGs"
      },
      "source": [
        "#define a function to tokenize a sentence into words - you can define words you want to remove as well as new words for tokenization\n",
        "\n",
        "stopwords = list(pythainlp.corpus.thai_stopwords())\n",
        "removed_words = ['u', 'b', 'n', 'nn', 'nn-', '\\n', 'ร้าน', 'กิน', 'ทาน', 'ผม','กก','สวัสดี', 'เก','ก','า','ร้า','เรา','ฉัน']\n",
        "screening_words = stopwords + removed_words\n",
        "\n",
        "new_words = {\"สตารบัก\", \"ปลาร้า\",\"ไม่อร่อย\",\"เรา\",\"หนอ\",\"เสนอ\"}\n",
        "\n",
        "words = new_words.union(thai_words())\n",
        "\n",
        "custom_dictionary_trie = Trie(words)\n",
        "\n",
        "def tokenize_to_list(sentence):\n",
        "  merged = []\n",
        "  words = pythainlp.word_tokenize(str(sentence), engine='longest', custom_dict=custom_dictionary_trie)\n",
        "  for word in words:\n",
        "    if word not in screening_words:\n",
        "      merged.append(word)\n",
        "  return merged"
      ],
      "execution_count": 19,
      "outputs": []
    },
    {
      "cell_type": "code",
      "metadata": {
        "id": "MnN1ekEoL9ug"
      },
      "source": [
        "#clean and tokenize sentences. count the occurences of each word\n",
        "\n",
        "df_kmeans['texts'] = df_kmeans['texts'].apply(lambda x: emoji_pattern.sub(r'', x))\n",
        "df_kmeans['texts'] = df_kmeans['texts'].apply(lambda x: specialchar_pattern.sub(r'', x))\n",
        "df_kmeans['texts'] = df_kmeans['texts'].apply(lambda x: number_pattern.sub(r'', x))\n",
        "df_kmeans['texts'] = df_kmeans['texts'].apply(lambda x: space_pattern.sub(r'', x))\n",
        "df_kmeans['texts'] = df_kmeans['texts'].apply(lambda x: dot_pattern.sub(r'', x))\n",
        "df_kmeans['texts'] = df_kmeans['texts'].apply(lambda x: backslash_pattern.sub(r'', x))\n",
        "df_kmeans['texts_tokenized'] = df_kmeans['texts'].apply(lambda x: tokenize_to_list(x))\n",
        "df_kmeans['texts_count'] = df_kmeans['texts_tokenized'].apply(lambda x: collections.Counter(x).most_common())"
      ],
      "execution_count": 20,
      "outputs": []
    },
    {
      "cell_type": "code",
      "metadata": {
        "colab": {
          "base_uri": "https://localhost:8080/",
          "height": 174
        },
        "id": "G0jG1yO889B2",
        "outputId": "085ec64e-1a40-4f9d-c888-5cb8c37d80df"
      },
      "source": [
        "#results of tokenization\n",
        "pd.set_option('display.max_colwidth', 50)\n",
        "\n",
        "df_kmeans"
      ],
      "execution_count": 21,
      "outputs": [
        {
          "output_type": "execute_result",
          "data": {
            "text/html": [
              "\n",
              "  <div id=\"df-c749b5b2-b286-4976-8c2c-28278e20146e\">\n",
              "    <div class=\"colab-df-container\">\n",
              "      <div>\n",
              "<style scoped>\n",
              "    .dataframe tbody tr th:only-of-type {\n",
              "        vertical-align: middle;\n",
              "    }\n",
              "\n",
              "    .dataframe tbody tr th {\n",
              "        vertical-align: top;\n",
              "    }\n",
              "\n",
              "    .dataframe thead th {\n",
              "        text-align: right;\n",
              "    }\n",
              "</style>\n",
              "<table border=\"1\" class=\"dataframe\">\n",
              "  <thead>\n",
              "    <tr style=\"text-align: right;\">\n",
              "      <th></th>\n",
              "      <th>KMeans ID</th>\n",
              "      <th>texts</th>\n",
              "      <th>texts_tokenized</th>\n",
              "      <th>texts_count</th>\n",
              "    </tr>\n",
              "  </thead>\n",
              "  <tbody>\n",
              "    <tr>\n",
              "      <th>0</th>\n",
              "      <td>0</td>\n",
              "      <td>กวงทะเลเผาอาหารทะเลเค้าสดจริงๆเนื้อปูหวานไม่คส...</td>\n",
              "      <td>[วง, ทะเล, เผา, อาหารทะเล, เค้า, สด, เนื้อ, ปู...</td>\n",
              "      <td>[(ร้านอาหาร, 8), (อาหาร, 6), (ซอย, 6), (ราคา, ...</td>\n",
              "    </tr>\n",
              "    <tr>\n",
              "      <th>1</th>\n",
              "      <td>1</td>\n",
              "      <td>วันนี้มีโอกาสตื่นเช้าครับเลยถึงโอกาสออกมาหาอะไ...</td>\n",
              "      <td>[มีโอกาส, ตื่น, เช้า, โอกาส, ออกมา, หา, อะ, ไช...</td>\n",
              "      <td>[(ชอบ, 7), (อร่อย, 7), (รีวิว, 6), (ครั้งแรก, ...</td>\n",
              "    </tr>\n",
              "    <tr>\n",
              "      <th>2</th>\n",
              "      <td>2</td>\n",
              "      <td>เคยเป็นไหมกันไหมคะหลังอาหารมื้อใหญ่ต่อให้อิ่เป...</td>\n",
              "      <td>[ไหม, ไหม, หลังอาหาร, มื้อ, อิ่, เครื่องดื่ม, ...</td>\n",
              "      <td>[(ชา, 18), (ไข่มุก, 14), (นม, 12), (เครื่องดื่...</td>\n",
              "    </tr>\n",
              "    <tr>\n",
              "      <th>3</th>\n",
              "      <td>3</td>\n",
              "      <td>เป็นคนที่ชอบทานMacchiatoเป็นประจำมีวันนึงเดArt...</td>\n",
              "      <td>[คน, ชอบ, macchiato, เป็นประจำ, นึง, เด, artof...</td>\n",
              "      <td>[(ร้านกาแฟ, 20), (กาแฟ, 18), (คน, 5), (บรรยากา...</td>\n",
              "    </tr>\n",
              "  </tbody>\n",
              "</table>\n",
              "</div>\n",
              "      <button class=\"colab-df-convert\" onclick=\"convertToInteractive('df-c749b5b2-b286-4976-8c2c-28278e20146e')\"\n",
              "              title=\"Convert this dataframe to an interactive table.\"\n",
              "              style=\"display:none;\">\n",
              "        \n",
              "  <svg xmlns=\"http://www.w3.org/2000/svg\" height=\"24px\"viewBox=\"0 0 24 24\"\n",
              "       width=\"24px\">\n",
              "    <path d=\"M0 0h24v24H0V0z\" fill=\"none\"/>\n",
              "    <path d=\"M18.56 5.44l.94 2.06.94-2.06 2.06-.94-2.06-.94-.94-2.06-.94 2.06-2.06.94zm-11 1L8.5 8.5l.94-2.06 2.06-.94-2.06-.94L8.5 2.5l-.94 2.06-2.06.94zm10 10l.94 2.06.94-2.06 2.06-.94-2.06-.94-.94-2.06-.94 2.06-2.06.94z\"/><path d=\"M17.41 7.96l-1.37-1.37c-.4-.4-.92-.59-1.43-.59-.52 0-1.04.2-1.43.59L10.3 9.45l-7.72 7.72c-.78.78-.78 2.05 0 2.83L4 21.41c.39.39.9.59 1.41.59.51 0 1.02-.2 1.41-.59l7.78-7.78 2.81-2.81c.8-.78.8-2.07 0-2.86zM5.41 20L4 18.59l7.72-7.72 1.47 1.35L5.41 20z\"/>\n",
              "  </svg>\n",
              "      </button>\n",
              "      \n",
              "  <style>\n",
              "    .colab-df-container {\n",
              "      display:flex;\n",
              "      flex-wrap:wrap;\n",
              "      gap: 12px;\n",
              "    }\n",
              "\n",
              "    .colab-df-convert {\n",
              "      background-color: #E8F0FE;\n",
              "      border: none;\n",
              "      border-radius: 50%;\n",
              "      cursor: pointer;\n",
              "      display: none;\n",
              "      fill: #1967D2;\n",
              "      height: 32px;\n",
              "      padding: 0 0 0 0;\n",
              "      width: 32px;\n",
              "    }\n",
              "\n",
              "    .colab-df-convert:hover {\n",
              "      background-color: #E2EBFA;\n",
              "      box-shadow: 0px 1px 2px rgba(60, 64, 67, 0.3), 0px 1px 3px 1px rgba(60, 64, 67, 0.15);\n",
              "      fill: #174EA6;\n",
              "    }\n",
              "\n",
              "    [theme=dark] .colab-df-convert {\n",
              "      background-color: #3B4455;\n",
              "      fill: #D2E3FC;\n",
              "    }\n",
              "\n",
              "    [theme=dark] .colab-df-convert:hover {\n",
              "      background-color: #434B5C;\n",
              "      box-shadow: 0px 1px 3px 1px rgba(0, 0, 0, 0.15);\n",
              "      filter: drop-shadow(0px 1px 2px rgba(0, 0, 0, 0.3));\n",
              "      fill: #FFFFFF;\n",
              "    }\n",
              "  </style>\n",
              "\n",
              "      <script>\n",
              "        const buttonEl =\n",
              "          document.querySelector('#df-c749b5b2-b286-4976-8c2c-28278e20146e button.colab-df-convert');\n",
              "        buttonEl.style.display =\n",
              "          google.colab.kernel.accessAllowed ? 'block' : 'none';\n",
              "\n",
              "        async function convertToInteractive(key) {\n",
              "          const element = document.querySelector('#df-c749b5b2-b286-4976-8c2c-28278e20146e');\n",
              "          const dataTable =\n",
              "            await google.colab.kernel.invokeFunction('convertToInteractive',\n",
              "                                                     [key], {});\n",
              "          if (!dataTable) return;\n",
              "\n",
              "          const docLinkHtml = 'Like what you see? Visit the ' +\n",
              "            '<a target=\"_blank\" href=https://colab.research.google.com/notebooks/data_table.ipynb>data table notebook</a>'\n",
              "            + ' to learn more about interactive tables.';\n",
              "          element.innerHTML = '';\n",
              "          dataTable['output_type'] = 'display_data';\n",
              "          await google.colab.output.renderOutput(dataTable, element);\n",
              "          const docLink = document.createElement('div');\n",
              "          docLink.innerHTML = docLinkHtml;\n",
              "          element.appendChild(docLink);\n",
              "        }\n",
              "      </script>\n",
              "    </div>\n",
              "  </div>\n",
              "  "
            ],
            "text/plain": [
              "  KMeans ID  ...                                        texts_count\n",
              "0         0  ...  [(ร้านอาหาร, 8), (อาหาร, 6), (ซอย, 6), (ราคา, ...\n",
              "1         1  ...  [(ชอบ, 7), (อร่อย, 7), (รีวิว, 6), (ครั้งแรก, ...\n",
              "2         2  ...  [(ชา, 18), (ไข่มุก, 14), (นม, 12), (เครื่องดื่...\n",
              "3         3  ...  [(ร้านกาแฟ, 20), (กาแฟ, 18), (คน, 5), (บรรยากา...\n",
              "\n",
              "[4 rows x 4 columns]"
            ]
          },
          "metadata": {},
          "execution_count": 21
        }
      ]
    },
    {
      "cell_type": "markdown",
      "metadata": {
        "id": "AUcV15Op-3wp"
      },
      "source": [
        "#**Understanding each clusters**"
      ]
    },
    {
      "cell_type": "markdown",
      "metadata": {
        "id": "A0lFf0lz-8fs"
      },
      "source": [
        "Show top keywords of each cluster"
      ]
    },
    {
      "cell_type": "code",
      "metadata": {
        "colab": {
          "base_uri": "https://localhost:8080/"
        },
        "id": "n0LZ5H8_Dqvn",
        "outputId": "0a605f67-2276-4985-dd45-fe201018e17e"
      },
      "source": [
        "top_N_words = 20\n",
        "\n",
        "for i in range(0, len(df_kmeans)):\n",
        "  print(f\"Cluster ID : {i}\\n\")\n",
        "  print(f\"Most common words include : {list(df_kmeans['texts_count'][i])[:top_N_words]}\\n\")\n",
        "\n",
        "#tune a model by remove unwanted characters and words and add more words to a custom dictionary"
      ],
      "execution_count": 22,
      "outputs": [
        {
          "output_type": "stream",
          "name": "stdout",
          "text": [
            "Cluster ID : 0\n",
            "\n",
            "Most common words include : [('ร้านอาหาร', 8), ('อาหาร', 6), ('ซอย', 6), ('ราคา', 5), ('รีวิว', 4), ('อร่อย', 4), ('รสชาติ', 4), ('ส้มตำ', 3), ('บ้าน', 3), ('ไทย', 3), ('ยำ', 3), ('แซ่บ', 3), ('คน', 3), ('รอบ', 3), ('สาขา', 3), ('เมนู', 3), ('น้ำ', 3), ('กาแฟ', 3), ('วง', 2), ('เพื่อนๆ', 2)]\n",
            "\n",
            "Cluster ID : 1\n",
            "\n",
            "Most common words include : [('ชอบ', 7), ('อร่อย', 7), ('รีวิว', 6), ('ครั้งแรก', 5), ('ร้านอาหาร', 5), ('แวะ', 4), ('ลอง', 4), ('ซื้อ', 4), ('มีโอกาส', 3), ('เช้า', 3), ('โอกาส', 3), ('หา', 3), ('บ้าน', 3), ('ถนน', 3), ('คาเฟ่', 3), ('คิว', 3), ('แถว', 3), ('เมือง', 3), ('นะคะ', 3), ('พาย', 3)]\n",
            "\n",
            "Cluster ID : 2\n",
            "\n",
            "Most common words include : [('ชา', 18), ('ไข่มุก', 14), ('นม', 12), ('เครื่องดื่ม', 4), ('รีวิว', 3), ('ลอง', 3), ('ติด', 3), ('ไต้หวัน', 3), ('ไหม', 2), ('ชาเขียว', 2), ('นิว', 2), ('คุง', 2), ('เจอ', 2), ('ochaya', 2), ('มากๆ', 2), ('aprilstore', 2), ('ตั้งอยู่', 2), ('สยาม', 2), ('คน', 2), ('สไตล์', 2)]\n",
            "\n",
            "Cluster ID : 3\n",
            "\n",
            "Most common words include : [('ร้านกาแฟ', 20), ('กาแฟ', 18), ('คน', 5), ('บรรยากาศ', 5), ('ชอบ', 4), ('นึง', 4), ('กา', 4), ('นก', 4), ('วัง', 4), ('น', 4), ('นอ', 4), ('นั่ง', 4), ('เจอ', 4), ('เม', 4), ('ดี', 4), ('หา', 4), ('ตกแต่ง', 4), ('ตั้งอยู่', 4), (':', 3), ('เค้ก', 3)]\n",
            "\n"
          ]
        }
      ]
    },
    {
      "cell_type": "markdown",
      "metadata": {
        "id": "KcnYjwPo_B_4"
      },
      "source": [
        "Show the original review for the interesring key words."
      ]
    },
    {
      "cell_type": "code",
      "metadata": {
        "colab": {
          "base_uri": "https://localhost:8080/",
          "height": 503
        },
        "id": "76bPozqQEDZt",
        "outputId": "6151996c-d726-477e-cb66-17a65c2c163b"
      },
      "source": [
        "pd.set_option('display.max_colwidth', None)\n",
        "df[df[\"Review\"].str.contains(\"ไร้\")]"
      ],
      "execution_count": 23,
      "outputs": [
        {
          "output_type": "execute_result",
          "data": {
            "text/html": [
              "\n",
              "  <div id=\"df-5442afc0-f1a0-4035-9799-ca84963938a4\">\n",
              "    <div class=\"colab-df-container\">\n",
              "      <div>\n",
              "<style scoped>\n",
              "    .dataframe tbody tr th:only-of-type {\n",
              "        vertical-align: middle;\n",
              "    }\n",
              "\n",
              "    .dataframe tbody tr th {\n",
              "        vertical-align: top;\n",
              "    }\n",
              "\n",
              "    .dataframe thead th {\n",
              "        text-align: right;\n",
              "    }\n",
              "</style>\n",
              "<table border=\"1\" class=\"dataframe\">\n",
              "  <thead>\n",
              "    <tr style=\"text-align: right;\">\n",
              "      <th></th>\n",
              "      <th>Review ID</th>\n",
              "      <th>Review</th>\n",
              "      <th>KMeans ID</th>\n",
              "    </tr>\n",
              "  </thead>\n",
              "  <tbody>\n",
              "    <tr>\n",
              "      <th>71</th>\n",
              "      <td>72</td>\n",
              "      <td>จริงๆจะไปกินร้านอื่นครับที่อยู่ในซอยเดียวกัน แต่ดันแวะร้านนี้ก่อนถึงที่หมาย 555+ บรรยากาศภายนอกตอนค่ำผมนึึกว่าร้านคาราโอเกะนั่งดิ๊งค์ซะอีก ก้อเล่นติดไฟเป็นสีๆกระพริบๆ แต่พอเอาเข้าจริงต้องบอกว่าเก๋ไก๋ สไตส์ลูกทุ่งคันทรี กินกันตรงชั้น2ระเบียงร้าน ผมได้ลอง3เมนู จานแรก ส้มตำปูม้า รสชาติแซ่บดี ใช้ปูุม้าขนาดใหญ่น้องๆsizeปูนึ่งทีเดียว ปูสด เนื้อเยอะสะใสเนื้อปูหวานฉ่ำไม่คาว สุดยอดมั๊กๆ จานทีี่2 กุ้งแช่น้ำปลา จานนี้ส่วนตัวคิดว่ารสชาติธรรมดา กุ้งตัวเล็กๆไปหน่อย แต่เขาทำสะอาดดี ผ่าเอาเส้นดำหลังกุ้งออกเกลี้ยงเลย ซึ่งผิดกับร้านอื่นๆทีี่เคยกินทีี่มักจะผ่าให้แต่ไม่เอาเส้นหลังออกให้ครับ จานที่3 ปลาช่อนระเบียงไม้ วิธีทำเหมือนกะนึ่งมะนาว แต่เป็นต้มยำน้ำข้น ข้นคักจริงๆใส่นมสดหอมมันมากมาย ปลาช่อนสดตัวใหญ่sizeกำลังดี เนื้อใสไม่ยุยไร้คาว อร่อยมากกก ซึ่งเขาว่าเป็นเมนูเอกของร้าน สมราคาคุยครับ อร่อยจริงๆคอนเฟิร์ม  ที่จอดรถสะดวก บริการดี เจ้าของเป็นกันเอง ราคาผมว่า ไม่แพงนะ ร้านอยู่ลึกไปหน่อยแต่ชิมรสชาติแล้วต้องบอกว่า ไม่ผิดหวังครับ</td>\n",
              "      <td>0</td>\n",
              "    </tr>\n",
              "    <tr>\n",
              "      <th>204</th>\n",
              "      <td>205</td>\n",
              "      <td>สวัสดีเพื่อนๆพี่ๆชาวนักชิมแห่ง wongnai.com ทุกท่านครับ \\nผม Captain Ton ขออาสาส่งความสุขให้ทุกท่านกันอีกครั้งครับ \\nสามารถติดตามรีวิวต่างๆของผมได้ที่ http://www.facebook.com/CaptainTonEatTravel และ IG ค้นหา Captain_Ton ได้เลยครับ มาติดตามความอร่อยกับผมกันเยอะๆนะครับ \\n\\nคำว่า\"บุฟเฟต์\" ราวกับความสุขของเหล่าคนชอบกินและชอบความคุ้ม วันนี้ผมจะพาทุกคนมาหาความสุขกันที่ร้าน MK Buffet สาขาฟิวเจอร์ปาร์รังสิตกันครับเพราะว่าที่นี่เป็นสาขาเดียวที่มีสุกี้บุฟเฟ่ต์ ให้ทานได้ไม่อั้นตลอดทั้งวัน และทุกวันทำการ ต่างจากสาขาอื่นที่ยกเว้นเสาร์-อาทิตย์บ้าง แต่มาที่นี่ได้ทานชัวร์ครับ \\n\\nส่วนราคานั้นก็มี 2 ราคาตามช่วงเวลาได้แก่ 10.00-17.00ราคา319บาท net และหลัง 17.00เป็นต้นไป 349บาท net \\nจะไปทานเวลาไหนต้องจ่ายเท่าไหร่ก็ต้องวางแผนให้ดีนะครับ ส่วนเรื่องอาหารนั้นก็มีมากมายหลากหลายมาก ดูจากรูปแล้วกันนะครับ \\n\\nเข้ามาถึงในร้านก็เลือกที่นั่งได้ตามสะดวกเลย แต่ว่ามาเที่ยงๆแบบนี้คนเยอะมากหาที่นั่งแทบไม่ได้เลย เข้ามานั่งเกือบในสุดเลย \\n\\nสักพักพนักงานก็จะมาสอบถามว่ารับเป็นบุฟเฟต์ หรือ A la carte มาถึงถิ่นขนาดนี้แล้วก็ต้องจัดเต็ม!!! \\nก่อนทานก็ต้องอ่านกฎระเบียบการทานด้วยนะครับ มิเช่นนั้นท่านอาจจะถูกปรับเอาได้ เดี๋ยวหาว่าไม่เตือนนะ \\nสั่งเมนูที่ท่านคิดว่าอยากทาน อร่อย และคุ้ม จัดเต็มด้วย สมุดตามในฉัน(เมนู)ได้เลย \\n\\nไม่นานนักหม้อน้ำซุปสีแดงอันเป็นเอกลักษณ์ก็ถูกยกออกมาพร้อมน้ำซุปในหม้อ ปิดฝาเอาไว้ก่อน รอเดือดก่อนนะ \\nน้ำจิ้มของMK ก็หนีไม่พ้นเจ้า2สูตร ทั้งน้ำจิ้มสุกี้สูตรดั้งเดิมและสูตรเด็กน้อย รสชาติที่คุ้นเคย \\nแต่รู้สึกว่าสูตรดั้งเดิมมันจะเปรี้ยวๆไปหน่อยนะหรือเค้าปรับสูตรใหม่เพื่อลดมะนาวหว่า ??? ช่างมันเถอะ \\nส่วนใครที่เคยบ่นว่าMKหวงพริก หวงกระเทียม แต่สาขาที่นี่ไม่ใช่นะครับ ให้มาเป็นถาดวางไว้บนโต๊ะเติมได้ตามใจเลย สะใจดีจัง \\n\\nน้ำดื่มของที่นี่ก็มีหลายอย่างนะครับ ทั้งชาจีนต้นตำรับ ชานมสูตรเข้มขันสุดๆ กาแฟ ชาเขียว และน้ำอัดลมมีให้เลือกค่อนข้างหลากหลายดีครับ แต่ที่ผมติดใจที่สุดก็ต้องเจ้านี่เลย ชานมสูตรเข้มข้นมาก ถ้าใส่ไข่มุกอีกหน่อยนี้ร้านดังๆเจ๊งแน่นอน พูดเล่นนะครับแต่มันอร่อยจริงๆนะ \\n\\nไม่นานนักอาหารที่สั่งไปค่อยๆทยอยมาแล้วครับ มาในทาวเวอร์สีแดงตามแบบฉบับดั้งเดิม และติ่มซำเนื้อแน่นรสชาติเยี่ยมที่ผมเดินทางมาถึงที่นี่ก็เพื่อเจ้าสิ่งนี้นี่แหละครับ จิ้มกับจิ๊กโฉ่วสูตรเฉพาะของทางร้าน อร่อยสมกับที่เดินทางมาจริงๆ \\n\\nขนมจีบหมูอร่อยแป้งบางเนื้อแน่นสุดๆ ขนมจีบกุ้งเนื้อแน่นเคี้ยวกี่คำก็เจอกุ้ง ฮะเก่าเนื้อแน่นแต่แป้งแต่แป้งเละไปหน่อยไม่ค่อยปลื้ม \\n\\nส่วนหมี่หยกของร้าน MK เหมือนจะเป็นเกรด B หรืออย่างไร เส้นใหญ่ เหนียว กระด้าง ติดกันเป็นพรืด ไม่เหมือนที่เคยทานเมื่อก่อน ผิดหวังเล็กน้อย \\n\\nกางออกของสดมาดูกันจะๆ ว่ามีอะไรบ้าง ดูสด น่าอร่อยไม่มีปัญหาเรื่องกลิ่นและสีสันครับ นำจับต้มให้สุกตามระเบียบ คงไม่มีใครทานดิบๆเย็นๆสินะ อิอิ \\n\\nจับเนื้อมาลวกๆลองชิมดูครับ นุ่มเด้งมากแต่ไม่ค่อยชอบเท่าไหร่ส่วนตัวคิดว่าเหมือนเนื้อปลอมเลย มันเด้งๆไร้กลิ่นเนื้อชืดมากเลยครับ แต่พอทานกับน้ำจิ้มของที่นี่ก็พอถูไถไปได้ \\n\\nทานไปทานมาชักเริ่มเบื่อ เริ่มเลี่ยน สั่งซาลาเปาหมูแดงมา1เข่ง ไส้อร่อยมากครับ แต่แป้งค่อนข้างจืด และกระด้าง สรุปคือไม่ผ่านครับ \\n\\nอิ่มแล้วก็ตบท้ายด้วยของหวานอย่างไอศกรีมเชอร์เบตมะนาว และทับทิมกรอบครับ ไอศกรีมเชอร์เบตของที่นี่เข้มข้นหอมกลิ่นมะนาวดีครับ \\n\\nและทับทิมกรอบที่น้ำเเข็งมาล้นหน้า รสชาติใสๆ หอมกลิ่นควันเทียนเล็กน้อย ผสมเนื้อมะพร้าวอ่อนด้วย รสชาติใช้ได้ครับ \\n\\nโดยรวมแล้วความเห็นส่วนตัว ผมคิดว่าค่อนข้างคุ้มกับราคา คุณภาพ และความหลากหลายที่ได้รับ ผมให้คะแนน4/5 สำหรับร้านนี้ครับ \\n\\nครั้งหน้าผม Captain Ton จะอาสาพากิน พาเที่ยวครั้งต่อไปอย่าลืมติดตามผมได้ที่นี่ และ FB นะครับ ^ ^</td>\n",
              "      <td>1</td>\n",
              "    </tr>\n",
              "  </tbody>\n",
              "</table>\n",
              "</div>\n",
              "      <button class=\"colab-df-convert\" onclick=\"convertToInteractive('df-5442afc0-f1a0-4035-9799-ca84963938a4')\"\n",
              "              title=\"Convert this dataframe to an interactive table.\"\n",
              "              style=\"display:none;\">\n",
              "        \n",
              "  <svg xmlns=\"http://www.w3.org/2000/svg\" height=\"24px\"viewBox=\"0 0 24 24\"\n",
              "       width=\"24px\">\n",
              "    <path d=\"M0 0h24v24H0V0z\" fill=\"none\"/>\n",
              "    <path d=\"M18.56 5.44l.94 2.06.94-2.06 2.06-.94-2.06-.94-.94-2.06-.94 2.06-2.06.94zm-11 1L8.5 8.5l.94-2.06 2.06-.94-2.06-.94L8.5 2.5l-.94 2.06-2.06.94zm10 10l.94 2.06.94-2.06 2.06-.94-2.06-.94-.94-2.06-.94 2.06-2.06.94z\"/><path d=\"M17.41 7.96l-1.37-1.37c-.4-.4-.92-.59-1.43-.59-.52 0-1.04.2-1.43.59L10.3 9.45l-7.72 7.72c-.78.78-.78 2.05 0 2.83L4 21.41c.39.39.9.59 1.41.59.51 0 1.02-.2 1.41-.59l7.78-7.78 2.81-2.81c.8-.78.8-2.07 0-2.86zM5.41 20L4 18.59l7.72-7.72 1.47 1.35L5.41 20z\"/>\n",
              "  </svg>\n",
              "      </button>\n",
              "      \n",
              "  <style>\n",
              "    .colab-df-container {\n",
              "      display:flex;\n",
              "      flex-wrap:wrap;\n",
              "      gap: 12px;\n",
              "    }\n",
              "\n",
              "    .colab-df-convert {\n",
              "      background-color: #E8F0FE;\n",
              "      border: none;\n",
              "      border-radius: 50%;\n",
              "      cursor: pointer;\n",
              "      display: none;\n",
              "      fill: #1967D2;\n",
              "      height: 32px;\n",
              "      padding: 0 0 0 0;\n",
              "      width: 32px;\n",
              "    }\n",
              "\n",
              "    .colab-df-convert:hover {\n",
              "      background-color: #E2EBFA;\n",
              "      box-shadow: 0px 1px 2px rgba(60, 64, 67, 0.3), 0px 1px 3px 1px rgba(60, 64, 67, 0.15);\n",
              "      fill: #174EA6;\n",
              "    }\n",
              "\n",
              "    [theme=dark] .colab-df-convert {\n",
              "      background-color: #3B4455;\n",
              "      fill: #D2E3FC;\n",
              "    }\n",
              "\n",
              "    [theme=dark] .colab-df-convert:hover {\n",
              "      background-color: #434B5C;\n",
              "      box-shadow: 0px 1px 3px 1px rgba(0, 0, 0, 0.15);\n",
              "      filter: drop-shadow(0px 1px 2px rgba(0, 0, 0, 0.3));\n",
              "      fill: #FFFFFF;\n",
              "    }\n",
              "  </style>\n",
              "\n",
              "      <script>\n",
              "        const buttonEl =\n",
              "          document.querySelector('#df-5442afc0-f1a0-4035-9799-ca84963938a4 button.colab-df-convert');\n",
              "        buttonEl.style.display =\n",
              "          google.colab.kernel.accessAllowed ? 'block' : 'none';\n",
              "\n",
              "        async function convertToInteractive(key) {\n",
              "          const element = document.querySelector('#df-5442afc0-f1a0-4035-9799-ca84963938a4');\n",
              "          const dataTable =\n",
              "            await google.colab.kernel.invokeFunction('convertToInteractive',\n",
              "                                                     [key], {});\n",
              "          if (!dataTable) return;\n",
              "\n",
              "          const docLinkHtml = 'Like what you see? Visit the ' +\n",
              "            '<a target=\"_blank\" href=https://colab.research.google.com/notebooks/data_table.ipynb>data table notebook</a>'\n",
              "            + ' to learn more about interactive tables.';\n",
              "          element.innerHTML = '';\n",
              "          dataTable['output_type'] = 'display_data';\n",
              "          await google.colab.output.renderOutput(dataTable, element);\n",
              "          const docLink = document.createElement('div');\n",
              "          docLink.innerHTML = docLinkHtml;\n",
              "          element.appendChild(docLink);\n",
              "        }\n",
              "      </script>\n",
              "    </div>\n",
              "  </div>\n",
              "  "
            ],
            "text/plain": [
              "     Review ID  ... KMeans ID\n",
              "71          72  ...         0\n",
              "204        205  ...         1\n",
              "\n",
              "[2 rows x 3 columns]"
            ]
          },
          "metadata": {},
          "execution_count": 23
        }
      ]
    },
    {
      "cell_type": "code",
      "metadata": {
        "colab": {
          "base_uri": "https://localhost:8080/",
          "height": 1000
        },
        "id": "ZtoVE5L0IjyZ",
        "outputId": "f7109ce7-1644-4682-849d-509f037d8fc2"
      },
      "source": [
        "df[df[\"Review\"].str.contains(\"ไม่อร่อย\")]"
      ],
      "execution_count": 24,
      "outputs": [
        {
          "output_type": "execute_result",
          "data": {
            "text/html": [
              "\n",
              "  <div id=\"df-333ea693-1349-44eb-9cfb-183fd4309bfa\">\n",
              "    <div class=\"colab-df-container\">\n",
              "      <div>\n",
              "<style scoped>\n",
              "    .dataframe tbody tr th:only-of-type {\n",
              "        vertical-align: middle;\n",
              "    }\n",
              "\n",
              "    .dataframe tbody tr th {\n",
              "        vertical-align: top;\n",
              "    }\n",
              "\n",
              "    .dataframe thead th {\n",
              "        text-align: right;\n",
              "    }\n",
              "</style>\n",
              "<table border=\"1\" class=\"dataframe\">\n",
              "  <thead>\n",
              "    <tr style=\"text-align: right;\">\n",
              "      <th></th>\n",
              "      <th>Review ID</th>\n",
              "      <th>Review</th>\n",
              "      <th>KMeans ID</th>\n",
              "    </tr>\n",
              "  </thead>\n",
              "  <tbody>\n",
              "    <tr>\n",
              "      <th>2</th>\n",
              "      <td>3</td>\n",
              "      <td>กวงทะเลเผา อาหารทะเลเค้าสดจริงๆเนื้อปูหวานไม่คาวเลยเนื้อกุ้งก็ทั้งหอมและมัน น้ำจ้ิมก็อร่อยเจ้มจ้นมีอาหารอร่อยหลากหลายรายการ ออส่วนมาในกระทะร้อนฉ่า เสริ์ฟทีมีแต่คนหันมามองเพราะเสียงดังมากกกกก เรียกความสนใจได้ดี แต่อร่อยนะแนะนำเลย ปลาหมึกไข่เค็มเมนูนี้แคเลทเตอรอลอาจจะสูงไปสักหน่อยแต่ห้ามพลาดเด็ดขาดเลยค่ะเพราะอร่อยมากยากบรรยาย ยิ่งทานตอนร้อนๆๆนะ \\nฮื้อ ขออีกจาน กุ้งอบวุ้นเส้นรสชาติดีก็อร่อยใช้ได้แต่มันมากๆ หมูสามชั้นก้นกระทะน้ำม้นงี้เยิ่มเลยถ้าทานช้าหายร้อนแล้วจะไม่อร่อยทันทีปูผัดพริกไทยดำ เนื้อปูสดรสชาติเข้มข้น หอมกลิ่นเครื่องเทศผัดจนเข้าไปผสมกับเนื้อปูกันเลยทีเดียว จานนี้ก็ห้ามพลาดเด็ดขาด ควรสั่งอย่างยิ่งโป๊ะแตก รสไม่จัดจ้านเท่าไรแต่ขอบอกแก้เลี่ยนได้ดีและคนไม่กินเผ็ดจะถูกใจมากเช่นนานา เพราะพอเข้าปากนะหือชุ่มคอ กินน้ำหมดหม้อเลยข้าวผัดปูไม่แนะนำตามหลักอาหารจีนถึงเราสั่งเป็นรายการแรกแต่ชอบเอามาส่งทีหลังแล้วจะทานกะอะไรล่ะกินกับจะเกลี้ยงหมดแล้วที่สำคัญไม่อร่อยค่ะถ้าจะสั่งก็จานเล็กๆพอ ปลากระพงทอดน้ำปลาเมนูนี้ก็ห้ามพลาดนะ ปลางี้กร๊อบกรอบ เนื้อปลาก็สดด้วยใส่น้ำจ้ิมเข้าไปแจ่มมากกกกหอยลายผัดพริกเผา ถึงเครื่องพริกเผาเข้าเนื้อกันสุดๆยำวุ้นเส้นรวมมิตรทะเลอยากรู้จังเค้าใช้วุ้นเส้นยี่ห้ออะไรมันเหนียวนุ่ม น้ำยำก็จี๊ดจ๊าด เมนูพื้นๆแต้ก็ห้ามพลาดเด็ดขาดเลยค่ะส้มตำปูม้า ก็งั้นๆแหละคอส้มตำจะรู้ว่ายังไม่แซ่บไม่ผ่านค่ะสลัดกุ้งกรอบ จานนี่ไม่ได้ชิม เพราะอิ่มแบบไม่ไหวแล้ว แต่เพื่อนนะตักกินไม่หยุดแล้วพูดว่าอร่อย ตักใส่ปากอีกก็บอกอีกอร่อยจัง อร่อยมาก เลยคิดว่าจานนี้คงจะอร่อยมากอ่ะนะตบท้ายด้วยข้าวเหนียวมะม่วงหอม มัน อร่อยแต่จานใหญ่มากกก ขอพูดถึงบรรยากาศร้านหน่อยนึงก่อนจะปิดจ๊อบ ร้านไม่ค่อยสะอาดเท่าไรค่ะที่ให้สามดาวเพราะบรรยากาศร้านนี่แหละแต่ก็ร้านอาหารจีนส่วนใหญ่เค้าก็ประมาณนี้กัน เสียงดัง กลิ่นไม่หอม การกินแข่งขันสูง555 เหมือนมาแข่งกินประมาณนั้น แต่ทุกเมนูก็ต้องให้สี่ดาวขึ้นนะ เพราะอาหารอร่อยจริ๊งจริงค่ะ</td>\n",
              "      <td>0</td>\n",
              "    </tr>\n",
              "    <tr>\n",
              "      <th>6</th>\n",
              "      <td>7</td>\n",
              "      <td>สวัสดีเพื่อนๆสมาชิกนักรีวิวร้านอาหารชาว Wongnai.com ทุกท่านครับ\\nไปกินไปเที่ยวถ่ายรูปเก็บความประทับใจมาฝากทุกคนสไตล์ Captain Ton กันอีกแล้วครับ\\n\\nวันนี้ได้รับคำแนะนำจากคุณด๊ะ (อย่าเรียกว่าเชิญนะเพราะมื้อนี้เสียเงินเอง) PR ของโรงแรม LE FENIX แนะนำมา\\nว่าตอนนี้กำลังมีเทศกาลบุฟเฟต์เบอร์เกอร์ พร้อมอาหารกลางวันแบบสุดคุ้ม ในราคาเพียง 229 บาท\\nพอดีว่าบ้านอยู่รามอินทรา ต้องถ่อไปไกลยันสุขุมวิท ก็ต้องคิดกันนิดนึง อืม.... ได้ครับ ตอบตกลงไป \\nพร้อมจองที่ไว้แล้ว ออกเดินทางกันได้เลย.... ได้ยินของถูกเป็นไม่ได้เชียว-*-\\n\\nมาถึงก็เดินลงมาจากสถานีรถไฟฟ้านานา เดินตรงมาอีกนิดนึง ถึงหน้าปากซอย เปิด Google Maps ดู\\nจะเดินเข้าไปก็กระไรอยู่นะ ไกลมาก... นั่งวินเข้าไปเลยก็แล้วกัน\\n\\nถึงแล้วโรงแรม LE FENIX ดูเล็กนิดเดียวเอง ส่วนตัวคิดว่ามันจะใหญ่กว่านี้ซะอีก\\nไปๆเดินเข้าไปกัน ก่อนจะเข้าไปถามพี่ยามก่อนว่าห้องอาหารอยู่ชั้นไหน พี่ยามบอกชั้น 3 เลยครับ\\nไม่รอช้าขึ้นลิฟต์ไปกันเลย\\n\\nออกมาจากลิฟต์ปุ๊ป ชนเข้ากับห้องอาหารแบบไม่ต้องเดินหาให้เมื่อยเลย ไม่รอช้า\\nถ่ายรูปบรรยากาศมาให้ชมกันก่อนครับ ดูบรรยากาศสบายๆ น่านั่งนานๆดีครับ \\n\\nมุมติดหน้าต่างก็ดูนั่งสบาย รับแสงกลางวันมองรถวิ่งไปมาเบาๆ น่านั่งไปอีกแบบ\\nก่อนจะเดินสำรวจก็ต้องบอกน้องๆเด็กเสิร์ฟกันก่อน เดี๋ยวแตกตื่นกันอีก คุณด๊ะ แนะนำมา\\nจองไว้ 2 ที่ครับ น้องวิ่งเข้าไปในครัวแล้วบอกว่าพี่เขามาแล้ว... วิ่งกลับออกมาบอกเราว่า\\nถ่ายรูปได้เลยค่ะ คุณด๊ะให้เตรียมไว้หมดแล้ว งั้นผมไม่เกรงใจนะครับ เริ่มถ่ายเรียงกันเลย\\nว่ามีอะไรให้เราทานกันบ้าง ผมจะไล่จากไลน์ด้านในออกไปนะครับ เริ่มจากมุมของทานเล่นกันก่อน\\n\\nข้าวผัดและไก่ผัดเม็ดมะม่วงหิมพานต์\\nผักโขมอบชีส และเส้นสปาเก็ตตี้\\nไวท์ซอสแฮมเห็ด และซอสมะเขือเทศ\\nไก่เทริยากิ ดูสีมันเข้มข้นมาก \\nหมูผัดซอสเม๊กซิกัน\\nซุปมะเขือเทศข้นๆ\\nขนมปังพร้อมเครื่องปิ้ง และมีบาร์ให้ตัดขนาดได้ตามใจ\\nเหล่าผลไม้สดบนน้ำแข็ง\\nเค้กและเครปต่างๆ\\nไอศกรีมรสสรอเบอรี่ในถังน้ำแข็งท๊อปปิ้งเครื่องต่างๆได้ตามสไตล์เรา\\nขนมไทยๆอย่างลอดช่อง ก็มีให้บริการ\\nน้ำดื่มต่างๆ พร้อมแก้วใบจิ๋ว\\nชา กาแฟร้อน พร้อมนมและครีมสูตรต่างๆ เติมน้ำตาลได้ตามใจ\\n\\nหมดบาร์ด้านนอกแล้วมาสำรวจบาร์ตรงกลางกันบ้าง\\nสลัดสูตรต่างๆที่เชฟปรุงมาให้พร้อมทาน\\nก๋วยเตี๋ยวลุยสวนแบบไทยๆ\\nยำวุ้นเส้น และลาบไก่\\nหมูมะนาวสีสันจัดจ้าน\\nซูชิหน้าต่างๆ\\nสลัดบาร์พร้อมน้ำสลัดสูตรต่างๆ มีให้เลือกเยอะมาก\\nสำรวจเสร็จแล้ว กลับมานั่งพักที่โต๊ะกันก่อน\\n\\nสำรวจเมนูเบอร์เกอร์กันก่อน ดูแล้วก็มีไม่กี่อย่างนะ เอางี้ละกันสั่งมาทุกอย่างเลยอย่างละ 2 ชิ้น\\nสั่งที่พนักงานได้เลย ถึงเราไม่สั่งก็มีน้องพนักงานมาวนที่โต๊ะให้เราสั่งได้สะดวกเลยครับ\\nไปตักอาหารอื่นๆ แล้วมาเริ่มชิมกันดีกว่า\\n\\nเริ่มออเดิร์ฟเบาๆกับขนมปังหน้าหมูกรอบๆหอมๆ โอโคโนมิยากิ กรอบนอกนุ่มใน \\nและของทานเล่นสไตล์เม็กซิกัน เรียกว่าอะไรไม่รู้ แต่มีรสเปรี้ยวหวานเผ็ดๆ ทานกับแป้งกรอบๆอร่อยดีครับ\\n\\nสปาเก็ตตี้ไวท์วอสแฮมเห็ด ไวท์ซอสเข้มข้น รสกลมกล่อม หอมกลิ่นแฮม ทานกับเส้นสปาเก็ตตี้\\nที่ลวกมากำลังดี เหนียวนุ่มอร่อยมาก จานนี้แนะนำเลยครับ\\n\\nตามมาด้วยสลัดสูตรตามใจ Captain Ton ผักสดกรอบเย็นๆได้มาตรฐาน \\nแต่น้ำสลัดนี้รสเข้มข้นอร่อยมาก เข้มข้นสะใจดีจริงๆ\\n\\nผักโขมอบชีสรสเข้มข้น เปรี้ยวครีมชีสเค็มๆและหอม \\nที่สำคัญมันเข้มข้นมากๆ ระวังจะเลี่ยนกันไปก่อนนะครับ \\n\\nจานนี้เป็นรวมอาหารไทย และสลัดแบบฝรั่งไว้ในจานเดียวกัน\\nเริ่มจากข้าวผัด จืดมาก เหมือนกินข้าวเปล่าเลยล่ะ แต่เอานะสไตล์ฝรั่ง\\nไก่ผัดมะม่วงหิมพาต์ ไก่นำไปชุบแป้งทอกแล้วนำมาผัดด้วยซอสสูตรเข้มข้น อร่อยม๊าก\\nหมูมะนาวที่นี่ก็รสเปรี้ยวเค็ม ตัดหวานนิดๆพอกลมกล่อม หมูก็นุ่ม อร่อยอีกแล้ว\\nลาบไก่ บอกได้คำเดียวว่าแซ่บมาก!!! เอาเป็นว่าอาหารไทยของที่นี่อร่อยสำหรับเราแต่ฝรั่งคงร้องจ๊ากเลยล่ะ\\nส่วนสลัดทั้งแฮมเมลอน ไส้กรอกแอปเปิ้ลเขียว น้ำสลัดปรุงรสชาติมารสมันๆเปรี้ยวๆ ส่วนตัวว่า\\nไม่ค่อยเข้ากันเท่าไหร่ แต่ผู้ช่วยบอกว่าอร่อยดี อืม... ลิ้นใครลิ้นมันนะ \\n\\nหมูผัดซอสเม๊กซิกันรสเข้มข้น หอมกลิ่นเหล้าจีนมาก ตอนแรกนึกว่าอาหารจีนด้วยซ้ำ หมูนุ่ม\\nอร่อยซอสเผ็ดๆ พอสะดุ้งแล้วก็หายไป อร่อยมากครับ จานนี้แนะนำอีกแล้ว\\n\\nสปาเก็ตตี้ซอสมะเขือเทศ น้ำนองเขียว มะเขือเทศแบบว่าใสๆจืดๆหอมๆ ไม่ค่อยปลื้มครับ\\n\\nผัดผักรวมกุ้ง อ้าวไม่มีในไลน์เมื่อกี้นิ ผู้ช่วยบอกว่าไก่ผัดเม็ดมะม่วงหมด เห็นเชฟเอามาเติม\\nเลยตักมาให้ชิมดู กุ้งเด้งกรอบ ผักก็กรอบแต่ซอสข้นจนถึงเค็มไปหน่อย ผมว่าทานกับข้าวสวยคงลงตัวเลยล่ะ\\n\\nซุปมะเขือเทศรสเข้มข้นมาก เหมือนจะใส่แครอทและครีมลงไปอีก \\nสำหรับผมว่าเลี่ยนและเหม็นมะเขือเทศไปหน่อย ลงมติกันว่าไม่ผ่านครับ\\n\\nหมดไลน์อาหารไปแล้ว มาชิมเบอร์เกอร์ที่เราสั่งไปดีกว่า กับHawaiianหมู \\nรสหวานเปรี้ยวของสับปะรด เข้ากับหมูสับผสมหอมใหญ่และแครอท ที่ถูกนำมาทำเป็นไส้อย่างดีอร่อยครับ\\n\\nHawaiianเนื้อ รสไม่ต่างจากเมื่อกี้เท่าไหร่ แต่ว่าหอมกลิ่นเนื้อเพิ่มมากอีกหน่อย อร่อยเข้าไปอีก\\n\\nเบอร์เกอร์เห็ด มีแต่เห็ดอัดแน่นๆเลย แต่รสชาตินั้นค่อนข้างจืดไปหน่อย \\nแต่สำหรับคนชอบเห็ด เมนูนี้ห้ามพลาดครับ \\n\\nเบอร์เกอร์กอร์ดอนบลูหมู ที่เป็น Signature คุณด๊ะแนะนำมา ไหนล่ะชีสอ่ะ???\\nลองเปิดดููสักหน่อย อ๋ออยู่นี่เอง ส่วนรสชาตินั้นอร่อยมากครับ หอมกลิ่มแฮมและเซดด้าชีส\\nรสเค็มๆมันๆกำลังดี อร่อยสมกับที่เป็นเมนนูแนะนำเชียวล่ะ\\n\\nเบอร์เกอร์ปลาทอด ส่วนตัวผมว่าจืดไปหน่อย น่าจะเพิ่มมายองเนส\\nหรือทาร์ทาร์ซอสลงไปอีกนิด จะแจ่มมาก\\n\\nเบอร์เกอร์คลาสิคหมู รสหมูผสมหัวหอมและแครอท ตัดกับชีสเค็มๆ อร่อยดีครับ\\nเบอร์เกอร์ไก่คลาสิค ไก่มาเป็บแบบชิ้นๆต่างจากเมื่อกี้ หมักมาไม่เข้มข้นมาก จืดกว่าหมูอีก\\nเบอร์เกอร์เนื้อคลาสิค อร่อยได้รสเนื้อหอมๆ กับชีสเค็มๆ รสชาติที่ผมคุ้นเคย\\n\\nเบอร์เกอร์ไก่เม๊กซิกกัน รสชาติแบบเดียวกับหมูเม๊กซิกันที่เป็นจานๆเมื่อกี้เลย อร่อยดีครับ\\nเบอร์เกอร์ไก่เทริยากิ จืดไปหน่อย หมักมาไม่ค่อยเข้าเนื้อ จานนี้ไม่ผ่านครับ\\n\\nชิลลี่ชีสเบอร์เกอร์เนื้อปรุงรสแบบเม๊กซิกัน รสเผ็ดๆหอมๆทานเข้ากับชีสรสมันๆ เค็มๆอร่อยครับ\\nเบอร์เกอร์เนื้อโรส ที่หอมและนุ่มชุ่มฉ่ำมาก ใครรักเนื้อจานนี้ห้ามพลาด แนะนำเลยครับ เนื้อชั้นเยี่ยมจริงๆ\\n\\nไปตบท้ายของหวานกัน มองไปอีกที คนเยอะมาก แน่นร้านเชียวล่ะ \\nก็ราคาถูกและก็รสชาติใช้ได้นี่นา คนเยอะก็ไม่แปลกเนอะ\\n\\nตบท้ายด้วยเค้ก ราสเบอรี่ บลูเบอรี่ เทรามิสุ และคัสตาร์ต บอกได้เลยว่าไม่อร่อย\\nเลยเรียกน้องเด็กเสริฟมาถาม ได้ความมาว่าสั่งมาจากโรงแรมอื่น ต้องขออภัยด้วย\\nเป็นโรงแรมดังอีกต่างหาก เอาเป็นว่า \"เรื่องนี้ริวจะไม่ยุ่ง\"\\n\\nทานไอศกรีมสตรอเบอรี่กับเครปกลิ่นหอมไข่ ท๊อปปิ้งด้วยแอปเปิ้ลผัดเนยกับชินเนม่อน\\nไอศกรีมละลายเร็วมาก ถ่ายรูปแทบไม่ทันเชียวล่ะ\\n\\nคิดบิลออกมา ราคา 458 บาท Netแล้ว อันที่จริงราคานี้ไม่รวมน้ำดื่ม แต่มีลูกค้าจาก En.... มาด้วย\\nจึงมีบริการให้ ถ้าไม่มีมาวันธรรมดาก็จะมีน้ำแก้วใหญ่ให้บริการ มีเก็บค่าน้ำอีกนิดหน่อยนะครับ\\nเทศกาลเบอร์เกอร์นี้ มีไปจนถึงวันที่ 31 ต.ค. 56 นี้เท่านั้นนะครับ โดยรวมแล้วผมให้คะแนน 4/5 ก่อน\\nเพราะของทานต่างๆมีน้อย แต่สมราคา อร่อยบ้างไม่อร่อยบ้าง ให้คะแนนเท่านี้ก่อนนะ\\n\\nครั้งหน้าผม Captain Ton จะพาทุกท่านไปกินไปเที่ยวตามสไตล์ของผมที่ไหนอีก \\nติดตามกันได้ที่นี่ และ https://www.facebook.com/CaptainTonEatTravel หรือตามเครดิตในรูปได้เลยนะครับ</td>\n",
              "      <td>0</td>\n",
              "    </tr>\n",
              "    <tr>\n",
              "      <th>11</th>\n",
              "      <td>12</td>\n",
              "      <td>โลตัสพัฒนาการมีร้านชีทเค้กน่าหม่ำอยู่ร้านนึงค่ะ ร้านนี้มีสาขาที่ทองหล่อและเมเจอร์เอกมัยด้วยนะคะ ภายในตู้แช่เรียงรายด้วยชีทเค้กเพี้ยบ น่าทานทั้งน้านน เลือกไม่ถูกเลยค่ะ ตอนนี้มีโปรโมชั่นซื้อ 3 แถม 1 ด้วย โอ้แม่เจ้า อยากทานหมดเลยอ่ะ แต่ด้วยทุนทรัพย์เลยเลือกมา 4 ชิ้นค่ะ ประกอบด้วย Blueberrt Cheesecake Brownie Cheesecake Apple Crumble Pie และ Mocha cake ชีทเค้กเค้าอร่อยมาก เนื้องี้เนียนเว่อร์ ขนมปังด้านล่างไม่แตกละเอียด ถือว่าทำได้ดีค่ะ Crumble Pie ก็อร่อยใช้ได้หอมดีค่ะ แต่ที่ไม่อร่อยเท่าไหร่คือเค้กกาแฟ ชั้นที่เป็นขนมปังเนื้อร่วนๆ ไม่อร่อยเลย แต่ครีมพอใช้ได้ค่ะ ราคาส่วนใหญ่ 100 บาทขึ้นไปค่ะ นอกจากเค้กแล้วยังมีพวกเครื่องดื่มพวกชา กาแฟ ขายด้วยค่ะ ร้านตกแต่งสไตล์คนทำงานไป จิบชา ชิมเค้กไปค่ะ ดูสะอาดสะอ้านดี พนักงานต้อนรับดีค่ะ ว่างก็มานั่งชิวกันนะคะ ร้านอยู่หัวมุมตรงข้ามเค้าท์เตอร์คิดเงินของโลตัสเลยค่ะ</td>\n",
              "      <td>3</td>\n",
              "    </tr>\n",
              "    <tr>\n",
              "      <th>16</th>\n",
              "      <td>17</td>\n",
              "      <td>ไปทานมาเพราะเห็นเปิดแบบบุฟเฟต์ทุกวันเสาร์อาทิตย์ บ่ายสองถึงหกโมงเย็น 2คน 1200++฿(บัตรastorspgใช้ลดได้ตามปกติ) โดยจะเลือกเครื่องดื่มได้คนละชนิด(ถ้าเป็นชาก็เติมนำ้ร้อนได้) ของที่เสิร์ฟแบบชั้นๆจะมีสโคนและของคาว และขนมหวานจะอยู่ในไลน์มีเค้กเกือบ10ชนิด ทำมาสูงใหญ่อลังการมาก(เหมือนเป็นเค้ก2ชั้น) ชอคโกแลตต่างๆ มาคารอง(ไม่อร่อย) และมีขนมในถ้วยเล็กๆอีกนิดหน่อย\\n\\nรลชาติขนมหลายๆอย่างอยู่ในเกณฑ์ดี เค้กหลายชนิดมีเอกลักษณ์ดี ไม่เหมือนตามตู้เค้กร้านกาแฟ บรรยากาศดีมาก ควรโทรมาจองก่อนเพื่อให้ได้โต๊ะฝั่งที่มีวิวสนามกอล์ฟ&amp;สนามม้า มีเปียโนเล่น การบริการดีสมเป็นแบรนด์หรูเครือสตาร์วูด\\n\\nข้อเสียคือ ไม่สามารถเปลี่ยนเครื่องดื่มได้ และของคาวมีน้อยไปหน่อย(มีแค่แซนวิชทูน่า แซลมอนรมควัน และครัวซองเนื้อ)\\n\\n</td>\n",
              "      <td>3</td>\n",
              "    </tr>\n",
              "    <tr>\n",
              "      <th>34</th>\n",
              "      <td>35</td>\n",
              "      <td>เดินผ่านร้านนี้มาหลายครั้งแล้วค่ะ สังเกตว่าร้านนี้เป็นที่สนใจของชาวต่างชาติม๊ากมาก วันนี้ได้ฤกษ์ดีหิ้วท้องกิ่วๆ มารอเพื่อนที่ร้านนี้ ลองชิมขนมหวานรองท้องและพักขากันหน่อยก่อนไปจัดอาหารคาว\\n\\nร้าน Yello Dellow Dessert ตั้งอยู่บริเวณตรงข้ามกับร้านวัตสัน ร้านอีฟแอนด์บอย และใกล้ๆ กับเดลิย่าค่ะ เดินหาไม่ยากนะคะ หน้าร้านจะเห็นเมนูน้ำผลไม้และของหวานที่ทำจากมะม่วงแปะอยู่เห็นค่อนข้างชัดเจน\\n\\n+ Gravity (75 บาท)\\nเมนูไอศกรีมมะม่วงเสิร์ฟมาในน้ำมะม่วงปั่น ตกแต่งด้วยเนื้อมะม่วงหั่นเต๋าและสาคูที่เหมือนไข่มุกในชานมไข่มุกค่ะ สำหรับไอศกรีมรสชาติค่อนข้างหวาน แต่ไม่หวานมากเกินไป รสชาติช่วยกันกับน้ำมะม่วงปั่นซึ่งมีรสเปรี้ยวอมหวานทำให้อร่อยและไม่เลี่ยนค่ะ ถือว่าไอศกรีมเป็นตัวชูโรงในถ้วยนี้เลย เนื้อมะม่วงเปรี้ยวอมหวาน เข้าใจค่ะว่าฤดูนี้ไม่ใช่ฤดูกาลปกติ มะม่วงเลยไม่อร่อยเท่าที่ควร ส่วนสาคูค่อนข้างนิ่มค่ะ กินรวมๆ แล้วอร่อย สดชื่นดี ^^\\n\\nใครผ่านมาแถวนี้มาลองกันได้นะคะ พนักงานค่อนข้างโอเค เรานั่งรอเพื่อนนานแล้ว นางยังไม่มีท่าทีว่าจะมาไล่เราออกจากร้านเลยค่ะ ฮ่าๆ\\n</td>\n",
              "      <td>1</td>\n",
              "    </tr>\n",
              "    <tr>\n",
              "      <th>85</th>\n",
              "      <td>86</td>\n",
              "      <td>ตอนแรกนึกว่าไม่อร่อยเลยลองเล่นๆ ปรากฎ อร่อยมาก แก้วใหญ่ 40บาทโอ้ยยถูกจริง แต่คนขายจะดูนิ่งๆๆ ลุงแกดูเหมือนหุ่นยนต์ แต่ภายในร้านดูเงียบ สรุปคือบรรยากาศยังไม่ถูกใจ แต่ถ้ากาแฟยกนิ้วให้เลย. คุณภาพคับแก้วจริงๆ รสชาติไม่แพ้ร้านที่เคยกินมาเลย</td>\n",
              "      <td>1</td>\n",
              "    </tr>\n",
              "    <tr>\n",
              "      <th>116</th>\n",
              "      <td>117</td>\n",
              "      <td>\\n---------เกริ่นๆ\\n\\nคือเมาไง เด็กๆอย่าเอาเป็นเยี่ยงอย่างนะจ๊ะ ช่วงนี้ลานเบียร์กำลังอู้ฟู่ เปิดกันเป็นดอกเห็ด อากาศก็เป็นใจเหลือเกินให้ตายสิ\\nแล้วพอสึมๆได้ที่ ร้านเค้าก็จะเตะเราออก ถูกมะ\\nพอร้านเตะเราออก เพื่อนๆก็จะครวญครางว่า โอยยยยพาไปหาอะไรร้อนๆกินหน่อยยยย ชายสี่ก็ได้\\nเออ ก็เลยเป็นที่มาของเมนูอาหารดึกๆเพื่อคนอยากสร่างเมา นอกจากบะหมี่ร้อนๆ ข้าวมันไก่ยอดฮิตแล้วนั้น ก็จะมีพวกร้านข้าวต้มและติ่วซำอะไรแบบนี้แหละที่อาแปะแกยังไม่นอน\\nวันนี้เราก็จะพาไปร้านสุดฮิต ที่ที่จริงแทบจะไม่ต้องรีวิว\\nแตไหนๆก็ไหนๆแล้ว เอาซักหน่อยละกันเนาะ ^^\\n\\n\\n---------เกี่ยวกับร้าน\\n\\nโชคดีติ่มซำ เป็นแบรนด์ร้านติ่มซำที่ถ้าจะให้เปรียบก็เหมือนกับชายสี่ของบะหมี่นั่นเอง มีอยู่เยอะหลายที่ เออ อาจจะไม่เยอะขนาดชายสีีที่มีแทบทุกปากซอย แต่ก็มีเยอะพอที่จะนั่ง taxi จากสาขาหนึ่งไปอีกสาขาหนึ่งในราคาไม่เกิน 80 บาท  ชัวร์!! (เคยลองนะ จากลาดพร้าว มาอารีย์ ไปจุฬา ประสาทนิดนึง)\\nเมนูนอกจากติ่มซำแปดล้านอย่างแล้วก็จะมีพวกอะไรที่พึงจะนึ่งได้ ทั้งแบบอร่อยในเข่ง และมาเป็นถ้วยๆร้อนๆ\\nสาขานี้เค้าเก๋ตรงที่มีซุ้มกาแฟด้วยนะเออ!\\nร้านเค้าเปิด 24 ชั่วโมง ที่จอดรถก็เยอะแยะครับตอนดึกๆ เพราะสองข้างถนนโล่งมาก \\nมา BTS ก็สะดวกครับ เดินมาจากสะพานไม่ใกลก็ถึงร้านแล้ว ^^\\n\\n\\n----------อาหารๆๆ\\n\\nจะบอกว่าร้านนี้เก๋ก็พูดไม่ได้ เพราะเมนูมันก็เหมือนโชคดีทุกสาขาแหละ\\nแต่จะบอกว่าจริงๆเค้าเ้ปิด 24 โมง และมีอาหารเช้าน่าทานด้วยนะ เช่นหมั่นโถวทอด และไข่กะทะ\\nรสชาติก็ใช้ได้ แต่ไข่กะทะอาจจะแอบแข็งไปนิดนึง\\nส่วนติ่มซำต่างๆคุณภาพก็เรื่อยๆครับ อาจจะไม่อร่อยนุ่มนึ่งสวยๆแบบตามโรงแรม แต่เทียบกับราคาก็พอถูๆไถๆได้เน้อ\\nขอติตรงที่รุ้สึกว่าบางคร่ั้งนึ่งมาแบบไม่พอดีอะครับ ติ้มซำยังแข็งจับกันเป็นก้อนยังกะเนื้อร้าย \\n\\nส่วนเครื่องดื่ม เก็กฮวย refill แนะนำครับ ถ้าหิวน้ำมากๆและอยากกรึ๊บอะไรที่มากกว่าน้ำเปล่า\\nแต่อย่าสั่งโอวัลตินเย็นนะครับ รสชาติเหมือนเทผงทุลีโอวัลตินผสมกับน้ำทั้งทะเลสาป คือจืดมากกกกกกกกกกกกกกกกกกกกกกกกกกกก ดูดจนหมดนึกว่าตัวเองสั่งน้ำเปล่า!!\\n\\n\\nการบริการ---ดีครับ ยิ้มแย้ม รับออเดอร์ด้วยใบหน้าเต็มใจบริการ อิอิ\\nร้านเหมาะสำหรับ----คนที่หิวไส้กิ่วกลางดึก และเหล่าสาวกนั่งเล่น-เดโม่-ลานเบียร์-ข้าวสาร-อตก หรืออะไรที่ทำให้สติคุณเบลอ และพร้อมจะทานอะไรร้อนๆกลางดึกตลอดเว\\nจุดเด่นของร้าน----เปิด 24 ชั่วโมง \\nจุดด้อยของร้านล่ะ----ติ่มซำงั๊นๆ และหาเอกลักษณ์ยาก จากการที่ร้านเป็น franchise \\nอยากมาอีกมั๊ย----ถ้าเมามาแถวนี้อีกก็คงแบกร่างล้นแอลกอฮอล์มาอีกครับ 555 เป็นที่พึ่งที่ดีจริงๆ มีห้องน้ำด้วย\\n\\n:D</td>\n",
              "      <td>1</td>\n",
              "    </tr>\n",
              "    <tr>\n",
              "      <th>135</th>\n",
              "      <td>136</td>\n",
              "      <td>ร้านนี้อยูในซอยตรงข้ามไปรษณีย์กลาง เข้ามากินทดลองความขลัง ความเก่าแก่ของร้านนี้ สั่งก๋วยเตี๋ยวเป็ด ได้เนื้อเป็ดสับมาทั้งกระดูก 1 ชิ้น ก๋วยเตี๋ยวน่องไก่ ได้ไก่ชิ้นใหญ่กว่า เป็ดพอได้ แต่เสียน้ำซุปไม่อร่อย ขนมปังสังขยา ขนมปังไม่อร่อยด้านๆ ไม่ฟู สังขยาก็น้อยไม่พอจิ้ม สั่งกาแฟเย็น กะโอเลี้ยง ใสมากไม่อร่อยเลย ร้านข้างทางชงอร่อยกว่าเยอะอ่ะ</td>\n",
              "      <td>0</td>\n",
              "    </tr>\n",
              "    <tr>\n",
              "      <th>142</th>\n",
              "      <td>143</td>\n",
              "      <td>เห็นว่าใกล้ทึ่ทำงาน เลยลองดูค่ะ ครั้งแรก ลองมื้อเย็น จะสั่งอะไรก็บอกหมด ไม่มี พนักงานบอกว่าไม่่ค่อยมีแขกเลยไม่มีของ อ้าววว ด้วยความหิว เลยถามว่ามีอะไร เขาแนะนำมา2-3 อย่าง ก็เลือก เป็น sirloin steak(ไม่มีแบบเนื้อแบบอื่นให้เลือก) กับ สปาเกตตี้ผัดเบคอน (เพราะยากนักที่จะทำไม่อร่อย) สรุป ไม่อร่อย!! ส่ง steak คืนเลยค่ะ สั่ง medium rare ได้มาแบบ well done ราคาก็มาตรฐานรร.5ดาวค่ะ เขาก็มาขอโทษ แต่ทำให้ใหม่ไม่ได้ เพราะนั่นเป็นชิ้นเดียวที่มี &gt;&lt;  เขาให้น้ำตะไคร้มาเป็นการขอโทษค่ะ แต่ไม่ได้ทานเพราะไม่ชอบ\\n\\nอ่ะ ให้โอกาสอีกครั้ง คราวนี้ไปลองอินเตอร์บุฟเฟ่ต์มื้อเที่ยง อาหารไม่ค่อยมีอะไรมากนัก (เมื่อเทียบกับรร.อื่นๆในระดับราคาเดียวกัน) ที่สำคัญ ไม่อร่อยด้วยนี่สิ พนักงานก็แย่ค่ะ ไม่ค่อยจะมาเก็บจาน จะสั่งกาแฟสด ก็ไม่มีใครมารับออร์เดอร์ (คือว่าน้ำต่างๆ มันรวมในบุฟเฟ่ เลยกะจะทานหลายๆอย่าง แทนที่อาหารที่ไม่อร่อยอ่ะค่ะ ^^) สรุป ไม่ประทับใจอะไรเลย นอกจากร้านสวย \\n\\nทั้งสองมื้อที่ไป มีโต๊ะเราเพียงโต๊ะเดียวเนี่ยค่ะ มื้อเที่ยงนั่น รู้สึกแย่ เนื่องจากว่าจะมีเหมือนพนักงานของรร.เอง มาตักบุฟเฟ่ต์ร่วมกับเราด้วย (มาแย่งsalmonไป แค้นๆ 555) เหมือนแบบ....เอ...นี่เรามากินอาหารที่เขาทำเลี้ยงพนักงานป่าวเนี่ย!! งงๆ ไม่ใช่ว่ารังเกียจพนักงานนะคะ แต่รู้สึกว่ามันไม่ควร อย่างน้อยเอาป้ายรร.ออกก่อนก็ได้นะ (เขาอาจมาจ่ายราคาเต็มแบบลูกค้าทั่วไปก็ได้ แต่พอมีป้ายพนักงานรร.แขวนคอไว้ มันเลยดูไม่ดีน่ะค่ะ แต่ก็แค่ความเห็นส่วนตัวนะคะ)</td>\n",
              "      <td>1</td>\n",
              "    </tr>\n",
              "    <tr>\n",
              "      <th>149</th>\n",
              "      <td>150</td>\n",
              "      <td>จอดรถริมถนนหน้าร้าน ไม่ต้องกังวลที่เหลือเฟือเพราะเป็นถนนซอย \\n\\nอาหารจานเด่นจะเป็นสปาเกตตี ลองมาหลายจานก็อร่อยทั้นั้น เส้น al dante พอดี รสเข้มข้น คาโบนารา ผัดพริกกระเทียม อร่อยหมด ข้าวจานเดียวก็ใช้ได้แต่ไม่เด่นเท่าเส้นราคาก็จะไม่ถึงร้อย แต่พาสต้าจะร้อยขึ้นไปจนสองร้อยกว่า ปีกไก่ทอดสั่งมากินแล้วห่อเหี่ยวมาก ก็แห้งอร่อยใช้ได้แต่จานนึงมีปีกกลางผ่าครึ่งอยู่ 5 ชิ้น! ขายจานละ 60 จานที่ใส่มาว่าเล็กแล้วยังดูโหรงเหรงเลย ขายแพงขึ้นแต่ปริมาณเหมาะกับหนึ่งจานจะดูดีกว่านี้ คราวหลังเจออย่างนี้จะถ่ายรูปเอาไว้\\n\\nเค้กก็อร่อยดีแต่ค่อนข้างแพง ชี้นละเกือบร้อยถึงร้อยกว่าๆ ทีเด็ดอยู่ที่พวกเครปชอบมากกว่า เบาๆดี  เครปซอสส้ม เครปไส้กล้วยราดช็อก อร่อย\\n\\nกาแฟเป็นส่วนที่น่าผิดหวัง เพราะขึ้นชื่อว่าร้านกาแฟแต่กาแฟไม่อร่อย ลาตเต้ร้อนไม่ร้อนเลยสงสัยสตีมนมไม่ได้ที่ ลาตเต้อาร์ตก็ออกมาน่าเกลียดขนาดไม่มียังดีกว่า ไม่ได้เข้าไปมองว่าใช้เครื่องยี่ห้ออะไร \\n\\nสถานที่เป็นบ้านที่ดัดแปลงเป็นร้าน จะคับแคบหน่อย มีไม่กี่โต๊ะ ตกแต่งบรรยากาศน่ารักดี แอร์ไม่เย็น ถ้าโต๊ะเต็มต้องไปนั่งโต๊ะเสริมอีกห้องนึงซึ่งโต๊ะ เก้าอี้ บรรยากาศแย่กว่ากันมากๆ\\n\\nสรุปอาหารอร่อยแต่ราคาแพงยังกะอยู่ในห้าง ร้านอยู่ในซอยลึกราคาน่าจะเป็นมิตรกว่านี้ แต่ราคานี้คนก็เข้าร้านไม่ขาดสายอยู่แล้ว รถจอดหน้าร้านเต็มตลอด.</td>\n",
              "      <td>1</td>\n",
              "    </tr>\n",
              "    <tr>\n",
              "      <th>170</th>\n",
              "      <td>171</td>\n",
              "      <td>ร้านน่ารักมากคะ สะอาด มีการดูแลน้องแมวอย่างดี และมีกฏเคร่งครัดสำหรับลูกค้าในการเล่นกับน้องแมว\\nบอกก่อนเลยว่าไม่ใช่Cat Loverคะ แต่เพื่อนสาวคลั่งแมวมากก เลยลองไปกันซะหน่อย\\n\\nร้านตกแต่งน่ารักคะ มีทั้งโซนนั่งโต๊ะเก้าอี้โซฟายาว และโซนนั่งพื้น เราได้นั่งตรงโซฟา ด้านบนเพดานเป็นกระจก ยกเพดานสูง รู้สึกโปร่ง สบายมากคะ \\n\\nเมนูืี่นี่จะเป็นพวกเบเกอรี่ เครื่องดื่มก็จะเป็นพวกชา กาแฟ อาหารจะมีสลัดนิดหน่อย แบบเบาๆคะ เราสั่งมา3อย่าง บราวนี่อร่อยคะ เสิร์ฟพร้อมไอศรีมและวิปครีม เค้าตกแต่งมาให้เป็นหน้าแมวด้วย น่ารักอ้ออ และอีกเมนูในรูปเพื่อนไปเลือกที่ตู้มาคะ ก็พอกินได้ ส่วนเมนูสุดท้ายที่สั่งคือ ชีสเค้กบลูเบอรี่ ไม่ได้ถ่ายรูปมาคะเป็นถ้วยเล็กๆ บอกเลยว่าเราทำอร่อยกว่า (จริงคะไม่เวอร์) เพราะมันไม่อร่อยเลยคะT_T พอชิมคำแรกทั้งเราและเพื่อนแบบ เอิ่บ:/  \\n\\nสรุปว่าร้านนี้คิดจะไปกินขนมไปร้านอื่นดีกว่า แต่ถ้าอยากเล่นกับน้องแมว ชมบรรยากาศร้าน ก็ลองไปกันดูนะคะ</td>\n",
              "      <td>3</td>\n",
              "    </tr>\n",
              "    <tr>\n",
              "      <th>235</th>\n",
              "      <td>236</td>\n",
              "      <td>จากพังงา โคกกลอย จะเดินทางไปภูเก็ต จะเห็นร้านอยู่ทางขวามือ สังเกตุได้ง่ายมากป้ายร้านใหญ่ ปละจะมีช้างสีเหลืองๆ อยู่หน้าร้านครับ ทางร้านมีที่จอดรถหน้าร้านเลยครับ จอดได้ประมาณ 10 คัน ร้านนี้ตกแต่งโล่งๆ สบายๆ สวยดีครับ ความสะอาดดีมาก การบริหารดีครับ ผมไปตอนกลางวัน ทางร้านมีบริการข้าวแกง อาหารตามสั่ง และกาแฟสด มาถึงอาหารที่สั่งนะครับ\\n1. แกงส้มผักรวม แกงส้มแบบทางใต้ ใส่ผักมาหลายชนิด ใส่ปลากระพง รสชาติเผ็ด และกลิ่นเครื่องแกงจะแรงๆ โดยรวมแล้ว ไม่ค่อยอร่อย ผักเละ ไปครับ\\n2. ผักเหมียงผัดไข่ ทางร้านทำออกมาแปลกๆ ไม่อร่อย ผักเละครับ และไข่ป่นๆ ยังไง ไม่เหมือนกับร้านอื่น รสชาติธรรมดามากๆ \\n3. ปลามงทอด จานนี้ปลามงเป็นชิ้นเอาไปทอด รสชาติใช้ได้เพราะปลาสด อร่อยครับ ทอดอาจจะเกรียมไปหน่อยแต่ใช้ได้ครับ\\n4. กุ้งผัดซอสมะขาม กุ้งตัวเล็กและให้น้อยมาก ซอสรสชาติดีครับ แต่ทางร้านน่าจะใส่แป้งด้วยมันเลยข้นมากๆ ไม่ประทับใจ\\n5. ชามะนาว ขอบอกว่ารสชาติแปลกๆ ไม่อร่อยครับ \\nโดนรวมแล้ว อาหารร้านนี้ผมเฉยๆ มาก ไม่อร่อยครับ ดีที่ความสะอาด การบริการดี ไม่งั้นคงแย่ แต่เห็นคนมาทานเยอะ คงเป็นแบบข้าวแกงครับ เพื่อนที่ลองทานแนะนำกันบ้างครับ !!</td>\n",
              "      <td>0</td>\n",
              "    </tr>\n",
              "    <tr>\n",
              "      <th>246</th>\n",
              "      <td>247</td>\n",
              "      <td>ด้วยความที่ช่วงนี้เป็นเทศกาลปีใหม่ ร้านจึงปิดกันเยอะ วันนี้ตั้งใจจะมาทานอีกร้านแต่ร้านนั้นปิดคะ ดูซ้ายดูขวา ร้านนี้แล้วกัน เพราะวันนี้อยากทานส้มตำ\\n\\nพอทานไปแล้ว เป็นร้านที่แก้ขัดจริงๆคะ สั่งมาหลายอย่าง (แต่ถ่ายรูปมาน้อย เพราะเสียอารมณ์กับรสชาด) สั่งมาทั้งหมด 6 อย่าง มีเนื้อย่างที่ใช้ได้อย่างเดียว อ้อ..หอยแครงก็โอเค แต่น้ำจิ้มไม่อร่อยคะ</td>\n",
              "      <td>1</td>\n",
              "    </tr>\n",
              "    <tr>\n",
              "      <th>265</th>\n",
              "      <td>266</td>\n",
              "      <td>ก่อนอื่น พูดถึงรสชาติของบุฟเฟ่ต์ก็ต้องบอกว่าเฉยๆ ธรรมดามาก เนื้อทุกแบบหมักด้วยซีอิ๊ว หมูทุกแบบหมักด้วยกิมจิปรุงรส และอาหารก็ไม่ได้สดมากนัก เป็นอารมณ์แบบ โต๊ะอื่นสั่งเหลือแล้วยังไม่ปิ้งก็จะเก็บเนื้อไว้ให้โต๊ะถัดไป แต่ถั่วแดงน้ำแข็งใสอร่อย สั่งเพิ่มถั่วแดงเยอะพิเศษได้ กินแก้เลี้ยน\\n\\nไปคราวนี้สั่งอาหารจานเดี่ยวเพิ่ม (อยู่ในเมนูบุฟเฟ่ต์) เอามากะลองชิม แต่กลายเป็นว่ามาจานใหญ่ หันไปเห็นป้าย \"ปิ้งย่างทานไม่หมดหักชิ้นละ 10 อาหารจานเดี่ยวทานไม่ถึงครึ่งหักเต็มราคา ถ้าคิดว่าทานไม่ไหวสั่งลดปริมาณได้\" ทำให้คิดว่า 'จะโดนหักเท่าไหร่เนี่ย'\\nมาถึงเมนูที่สั่งดีกว่า มีข้าวผัดกิมจิ อร่อยดี แต่ซุปกิมจิไม่อร่อย รสชาติแบบแกงส้มสุดๆ รสชาติไม่ใช่ซุปกิมจิแบบที่เกาหลี (แกงส้มบ้านเราอร่อยกว่า) ซารังราเมนก็มาม่าเกาหลีดีๆ ไม่คุ้ม ตัดกำลังมาก สุดท้ายคือสลัด ...ส้มตำใส่กิมจิดีๆ นี่เอง\\n\\nลืมไปว่า เนื้อที่สั่งมาจะถูกรวมอยู่ในจานเดียวกัน แยกแค่จานเนื้อ จานหมู จานไก่ แต่ไม่ได้สั่งไก่มาเลยไม่รู้ว่ารสชาติเป็นไง ที่สำคัญ เนื้อแต่ละจานมาแบบพูนๆ ชิ้นๆ ไม่ได้ซไลด์บางแบบเบุฟยุ่น\\n\\nบรรยากาศในร้าน ถือว่าใช้ได้ เป็นกันเอง ไม่เอะอะ โต๊ะไม่เยอะมาก นั่งได้โต๊ะละ 4-6 คน และมีคนทยอยเข้าร้านเรื่อยๆพนักงานจะมาช่วยย่างบ้าง (แต่ส่วนตัวอยากย่างเอง) ความแรงไฟพอได้ แต่ไม่เท่ากัน ท่อดูดควันก็ดูดแต่ควันจริงๆ กลิ่นติดตัวมาก ไม่มีสเปร์ยฉีดก่อนออกจากร้าน ไม่มีอ่างล้างมือ ไม่มีลูกอมดับกลิ่นปาก เพราะราคา 330 นี้ควรจะมีของพวกนี้ด้วย\\n\\nที่สำคัญสำหรับช่วงนี้คือ โปรโมชั่นรับปีใหม่จับรางวัลโต๊ะละ 1 ลูก ลด 10% 20% 30% 50% 100)</td>\n",
              "      <td>0</td>\n",
              "    </tr>\n",
              "    <tr>\n",
              "      <th>271</th>\n",
              "      <td>272</td>\n",
              "      <td>หลายคนคงเคยได้ยินข่าวว่าทานชานมไข่มุกมากๆไม่ดี  เพราะแก้วนึงอุดมไปด้วย trans fat (ครีมเทียม) ซึ่งเป็นไขมันไม่ดี  กินมากสะสมเยอะโรคภัยก็ถามหา  ในวันนี้ก็มีร้านทางเลือกชานมไข่มุกที่ห่วงสุขภาพคนทานโผล่ขึ้นมา ในนามว่า \"Herma\" คือทางร้านจะชงสดโดยใช้นมสดแท้ 100% ซึ่งดูเป็นทางเลือกที่น่าสนใจทีเดียวสำหรับคนที่ เสพติดชานมไข่มุกอย่างเราๆ\\n\\n=-= สถานที่ตั้ง =-=\\n\\nร้านมีสาขาแต่ไม่ค่อยมาก  สาขาที่แอมลองอยู่ที่ชั้นสอง Airport link สถานีลาดกระบัง(ชั้นก่อนถึงเคาเตอร์ซื้อตั๋ว) ซึ่งคงเหมาะกับผู้ที่สัญจรใช้บริการ airport link สถานีนี้เป็นประจำค่ะ\\n\\n=-= เมนูที่ชิม =-=\\n\\nขณะที่แอมลองทาน  ทางร้านมีโปรโมชั่นชามน ลดราคาเหลือ แก้วละ 25 บาทอยู่ เลยซื้อมาลองพร้อมเพิ่มไข่มุก 5บาท \\n\\nชิมดูรู้สึกว่ามันเลี่ยนน้อยกว่าที่ชงด้วยครีมเทียมทั่วไปค่ะ  แต่รสชาติค่อนข้างเจือจางไม่เข้มข้นเลย  ไม่หวานไม่ข้น ออกแนวจืดๆ เลยยังไม่ปลื้ม\\nเท่าไร \\n\\nคือไม่แน่ใจว่ามันแนวสุขภาพ\\nเลยต้องหวานน้อย รสบางๆหรือเปล่า  แต่ชิมเสร็จแล้วนึกถึงคำกล่าวที่ว่า  \"ของที่ไม่อ้วน  กินแล้วไม่อร่อย\" ขึ้นมาจับใจ????????</td>\n",
              "      <td>2</td>\n",
              "    </tr>\n",
              "    <tr>\n",
              "      <th>275</th>\n",
              "      <td>276</td>\n",
              "      <td>เห็นรีวิว เลยมาลองทาน ร้านอยู่ไม่ไกลจากบ้าน\\nร้านอยู่หมู่บ้านรัชดานิเวศน์ แยก 11\\nมาทานตอนเที่ยง ร้านเปิด 11.30 ปิดประมาณ 5 ทุ่ม\\n\\nบรรยากาศ : ร้านมีโต๊ะด้านในที่ติดแอร์แค่ 5 ตัว โต๊ะติดกันมากๆ ตกแต่ง ไม่มีอะไรพิเศษ นอกจากจะมีรูปโชว์ที่คนดังมาทาน กับเมนูอาหาร (1/5)\\n\\nบริการ : ดีค่ะ พนักงานน่ารักทุกคน (4/5)\\n\\nอาหาร : เห็นเค้าบอกว่า ไม่แพง ราคาก็ไม่สูงนะ แต่คุณภาพก็ด้อยตามราคา อาหารไม่เจออะไรอร่อย ทุกอย่างออกเค็มไปหมด ทานเสร็จหิวน้ำมากๆ\\n- Sushi 2 คำ 90 บาท มีแต่ของหมด กุ้งหมด ทาโกะหมด ปลาสดใช้ได้ แต่ชิ้นบางเฉียบตามราคา ข้าวไม่ได้เรื่อง แห้ง แข็งนิดๆ ปรุงรสไม่ผ่าน แถมเหยาะโชยุลงมาอีก (ตามรูป) (2/5)\\n- ไข่หวานย่าง 90 บาท ชิ้นเล็กจนไม่รู้จะถ่ายรูปให้สวยได้ยังไง รสชาติก็ธรรมดา ดีที่ทำมาร้อนๆ เลยช่วยชีวิตไว้ได้ (2/5 --&gt; แพงเกิ๊น)\\n- Ebi tempura (250 ลดเหลือ 200) เมนูลดราคาประจำวัน กุ้ง 5 ตัว ทอดมาร้อนๆ อร่อยดี (4/5)\\n- ข้าวหน้าปลาแซลมอน (250) แซลมอนบางที่สุด ที่เคยเห็นมา ข้าวแห้ง ไม่อร่อย โรยงาคั่วมาอีก ให้เสียรสชาติ (แถมเกลียดงาอยู่แล้ว) งาไม่พอ เจอโชยุอีก (ตามรูป.. ไม่ได้เหยาะเองนะคะ อาหารมาแบบนั้น) แล้วผงชมพูๆ ก็ไม่รู้อะไร ลองจิ้มทานดูแล้วออกหวานๆ เลยเขี่ยออก ไม่ทาน (2/5--&gt; ถูกดี ทานแล้วอิ่ม ถ้าเฉพาะรสชาติ 1/5)\\n- california roll (ใช้ voucher 250 เหลือ 159)\\nแถมชาเขียว กับ ซุป 1 ถ้วย รสชาติธรรมดามาก แซลมอนก็แสนจะบาง (2/5)\\n\\nสรุป คงไม่มาอีกแล้ว ราคาขนาดน้ี ไปทานที่อื่นอร่อยกว่าเยอะ บรรยากาศก็โอกว่า\\nสงสัยลิ้นเราจะชาวบ้านไป เข้าไม่ถึงรสชาติอาหารอันล้ำลึกอะ</td>\n",
              "      <td>0</td>\n",
              "    </tr>\n",
              "    <tr>\n",
              "      <th>279</th>\n",
              "      <td>280</td>\n",
              "      <td>รีวิวในครั้งนี้ไม่ใช่สเต็กในร้าน steak lao นะครับ....แต่ผมขอพูดถึงขนมที่ขายอยู่ในร้านนั่นก็คือ \\nbarbe papa(บาร์บี้ปาป้า้) เป็นเหมือนขนมสายไหมกลมๆเล็กๆสีสวยน่าทานครับ...\\nกระปุกละ 50 บาทมีข้างในอยู่ประมาณ 10 ลูกได้...รสชาดจะมีอยู่หลายรสแล้วแต่สีครับ\\nแต่พอผมชิมแล้วผิดหวังมาก..มันมีแค่รสหวานครับ(ไม่อร่อยเลยแถมยังพาลหิวน้ำอีก)(ไม่ต่างกับคุณไปทานน้ำตาลก้อนที่ใส่กับกาแฟแล้วอมช็อคโกแลตหรือรสชาดที่คุณต้องการตามลงไปยังอร่อยซะกว่าครับผมว่า)\\n\\nแต่แพคเกจสวยครับอันนี้ยอมรับซึ่งก็ดูเก๋ไก๋มีสไตล์ครับถ้าจะถือเดินแต่รสชาดผมขอบายครับ...ไม่ปลื้มจริงๆ\\n\\nJust Eat It!!!\\n\\n</td>\n",
              "      <td>1</td>\n",
              "    </tr>\n",
              "    <tr>\n",
              "      <th>284</th>\n",
              "      <td>285</td>\n",
              "      <td>ผมชอบร้านกาแฟในเครือ อเมซอน ซ่งส่วนใหญ่เปิดในปั๊มน้ำมัน\\nแต่ร้านนี้ เปิดในห้าง เป็นร้านการแฟมาตรฐานเลยครับ\\nผมชอบสาขานี้ เพราะ ร้านมันสวยดี เมื่อมันอยู่ในห้าง สีเขียวทำให้สดชื่น\\n\\nผมมากินกาแฟหลายครั้งแล้ว รสชาติก็เป็นมาตรฐานของอเมซอนนะครับ\\nคาปูชิโน่ ก็ไม่โดดเด่น แต่ก็อร่อยมาตรฐาน\\nที่ผมชอบก็คือ สูตร อเมซอนครับ จะดื่มร้อน\\nถ้าธรรมดาก็ 45 บาท\\nถ้า อเมซอนพิเศษ ซึ่งกาแฟจะขมเข้มข้นขึ้น ก็ 50 บาท อันนี้สะใจดี\\nดื่มแล้วตาโตแข็งดี\\n\\nส่วนเค็ก ถ้าเป็นเค๊กที่มีครีมบนหน้า ไม่แนะนำครับ ไม่อร่อย เนื้อเค๊กแข็ง\\nถ้าอยากกิน ก็กินแบบที่เขาทำเล็กๆ น้อยๆ มาขายดีกว่า\\nเพราะคิดว่า ทางร้านเขาคงรับมาขายต่ออีกที เพราะอเมซอนไม่ทำเค็กขายเอง</td>\n",
              "      <td>1</td>\n",
              "    </tr>\n",
              "  </tbody>\n",
              "</table>\n",
              "</div>\n",
              "      <button class=\"colab-df-convert\" onclick=\"convertToInteractive('df-333ea693-1349-44eb-9cfb-183fd4309bfa')\"\n",
              "              title=\"Convert this dataframe to an interactive table.\"\n",
              "              style=\"display:none;\">\n",
              "        \n",
              "  <svg xmlns=\"http://www.w3.org/2000/svg\" height=\"24px\"viewBox=\"0 0 24 24\"\n",
              "       width=\"24px\">\n",
              "    <path d=\"M0 0h24v24H0V0z\" fill=\"none\"/>\n",
              "    <path d=\"M18.56 5.44l.94 2.06.94-2.06 2.06-.94-2.06-.94-.94-2.06-.94 2.06-2.06.94zm-11 1L8.5 8.5l.94-2.06 2.06-.94-2.06-.94L8.5 2.5l-.94 2.06-2.06.94zm10 10l.94 2.06.94-2.06 2.06-.94-2.06-.94-.94-2.06-.94 2.06-2.06.94z\"/><path d=\"M17.41 7.96l-1.37-1.37c-.4-.4-.92-.59-1.43-.59-.52 0-1.04.2-1.43.59L10.3 9.45l-7.72 7.72c-.78.78-.78 2.05 0 2.83L4 21.41c.39.39.9.59 1.41.59.51 0 1.02-.2 1.41-.59l7.78-7.78 2.81-2.81c.8-.78.8-2.07 0-2.86zM5.41 20L4 18.59l7.72-7.72 1.47 1.35L5.41 20z\"/>\n",
              "  </svg>\n",
              "      </button>\n",
              "      \n",
              "  <style>\n",
              "    .colab-df-container {\n",
              "      display:flex;\n",
              "      flex-wrap:wrap;\n",
              "      gap: 12px;\n",
              "    }\n",
              "\n",
              "    .colab-df-convert {\n",
              "      background-color: #E8F0FE;\n",
              "      border: none;\n",
              "      border-radius: 50%;\n",
              "      cursor: pointer;\n",
              "      display: none;\n",
              "      fill: #1967D2;\n",
              "      height: 32px;\n",
              "      padding: 0 0 0 0;\n",
              "      width: 32px;\n",
              "    }\n",
              "\n",
              "    .colab-df-convert:hover {\n",
              "      background-color: #E2EBFA;\n",
              "      box-shadow: 0px 1px 2px rgba(60, 64, 67, 0.3), 0px 1px 3px 1px rgba(60, 64, 67, 0.15);\n",
              "      fill: #174EA6;\n",
              "    }\n",
              "\n",
              "    [theme=dark] .colab-df-convert {\n",
              "      background-color: #3B4455;\n",
              "      fill: #D2E3FC;\n",
              "    }\n",
              "\n",
              "    [theme=dark] .colab-df-convert:hover {\n",
              "      background-color: #434B5C;\n",
              "      box-shadow: 0px 1px 3px 1px rgba(0, 0, 0, 0.15);\n",
              "      filter: drop-shadow(0px 1px 2px rgba(0, 0, 0, 0.3));\n",
              "      fill: #FFFFFF;\n",
              "    }\n",
              "  </style>\n",
              "\n",
              "      <script>\n",
              "        const buttonEl =\n",
              "          document.querySelector('#df-333ea693-1349-44eb-9cfb-183fd4309bfa button.colab-df-convert');\n",
              "        buttonEl.style.display =\n",
              "          google.colab.kernel.accessAllowed ? 'block' : 'none';\n",
              "\n",
              "        async function convertToInteractive(key) {\n",
              "          const element = document.querySelector('#df-333ea693-1349-44eb-9cfb-183fd4309bfa');\n",
              "          const dataTable =\n",
              "            await google.colab.kernel.invokeFunction('convertToInteractive',\n",
              "                                                     [key], {});\n",
              "          if (!dataTable) return;\n",
              "\n",
              "          const docLinkHtml = 'Like what you see? Visit the ' +\n",
              "            '<a target=\"_blank\" href=https://colab.research.google.com/notebooks/data_table.ipynb>data table notebook</a>'\n",
              "            + ' to learn more about interactive tables.';\n",
              "          element.innerHTML = '';\n",
              "          dataTable['output_type'] = 'display_data';\n",
              "          await google.colab.output.renderOutput(dataTable, element);\n",
              "          const docLink = document.createElement('div');\n",
              "          docLink.innerHTML = docLinkHtml;\n",
              "          element.appendChild(docLink);\n",
              "        }\n",
              "      </script>\n",
              "    </div>\n",
              "  </div>\n",
              "  "
            ],
            "text/plain": [
              "     Review ID  ... KMeans ID\n",
              "2            3  ...         0\n",
              "6            7  ...         0\n",
              "11          12  ...         3\n",
              "16          17  ...         3\n",
              "34          35  ...         1\n",
              "85          86  ...         1\n",
              "116        117  ...         1\n",
              "135        136  ...         0\n",
              "142        143  ...         1\n",
              "149        150  ...         1\n",
              "170        171  ...         3\n",
              "235        236  ...         0\n",
              "246        247  ...         1\n",
              "265        266  ...         0\n",
              "271        272  ...         2\n",
              "275        276  ...         0\n",
              "279        280  ...         1\n",
              "284        285  ...         1\n",
              "\n",
              "[18 rows x 3 columns]"
            ]
          },
          "metadata": {},
          "execution_count": 24
        }
      ]
    }
  ]
}